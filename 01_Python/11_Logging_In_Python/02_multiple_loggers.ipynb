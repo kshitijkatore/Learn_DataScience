{
 "cells": [
  {
   "cell_type": "code",
   "execution_count": null,
   "id": "bf01f02a",
   "metadata": {},
   "outputs": [],
   "source": [
    "import logging\n",
    "\n",
    "## create logger\n",
    "\n",
    "logger1 = logging.getLogger(\"Module1\")\n",
    "logger1.setLevel(logging.DEBUG)\n",
    "\n",
    "# create alogger for mudule 2\n",
    "logger2 = logging.getLogger(\"module2\")\n",
    "logger2.setLevel(logging.WARNING)\n",
    "\n",
    "# Confige Logging setting\n",
    "logging.basicConfig(\n",
    "    level=logging.DEBUG,\n",
    "    format='%(asctime)s - %(name)s - %(levelname)s - %(message)s',\n",
    "    datefmt= '%Y-%m-%d %H:%M:%S'\n",
    ")"
   ]
  },
  {
   "cell_type": "code",
   "execution_count": null,
   "id": "60cec1e2",
   "metadata": {},
   "outputs": [
    {
     "name": "stderr",
     "output_type": "stream",
     "text": [
      "2025-07-07 15:44:40 - Module1 - DEBUG - Thise is debug message for module1\n",
      "2025-07-07 15:44:40 - module2 - WARNING - This is a warning message for module 2\n",
      "2025-07-07 15:44:40 - module2 - ERROR - This is a error message\n"
     ]
    }
   ],
   "source": [
    "## log message with different loggers\n",
    "\n",
    "logger1.debug(\"Thise is debug message for module1\")\n",
    "logger2.warning(\"This is a warning message for module 2\")\n",
    "logger2.error(\"This is a error message\")"
   ]
  },
  {
   "cell_type": "code",
   "execution_count": null,
   "id": "3ff1b2bc",
   "metadata": {},
   "outputs": [],
   "source": []
  }
 ],
 "metadata": {
  "kernelspec": {
   "display_name": "Python 3",
   "language": "python",
   "name": "python3"
  },
  "language_info": {
   "codemirror_mode": {
    "name": "ipython",
    "version": 3
   },
   "file_extension": ".py",
   "mimetype": "text/x-python",
   "name": "python",
   "nbconvert_exporter": "python",
   "pygments_lexer": "ipython3",
   "version": "3.10.0"
  }
 },
 "nbformat": 4,
 "nbformat_minor": 5
}
