{
 "cells": [
  {
   "cell_type": "markdown",
   "id": "292a67fc",
   "metadata": {},
   "source": [
    "##### Write a program that checks if a number is positive,negative or zero."
   ]
  },
  {
   "cell_type": "code",
   "execution_count": 3,
   "id": "7551cb61",
   "metadata": {},
   "outputs": [
    {
     "name": "stdout",
     "output_type": "stream",
     "text": [
      "The number is Zero\n"
     ]
    }
   ],
   "source": [
    "num = int(input(\"Enter the number :\"))\n",
    "\n",
    "if num>0:\n",
    "    print(f\"The number is Positive.\")\n",
    "elif num==0:\n",
    "    print(f\"The number is Zero\")\n",
    "else:\n",
    "    print(\"The number is Negative.\")"
   ]
  },
  {
   "cell_type": "markdown",
   "id": "0cf24e1d",
   "metadata": {},
   "source": [
    "##### Q. Check if a given year is a leap year or not"
   ]
  },
  {
   "cell_type": "code",
   "execution_count": 7,
   "id": "c81ee31f",
   "metadata": {},
   "outputs": [
    {
     "name": "stdout",
     "output_type": "stream",
     "text": [
      "Is not a leap year.\n"
     ]
    }
   ],
   "source": [
    "year = int(input(\"Ente the year:\"))\n",
    "\n",
    "if year%4==0:\n",
    "    if year%100==0:\n",
    "        if year%400==0:\n",
    "            print(\"Is a leap Year.\")\n",
    "        else:\n",
    "            print(\"Is not a leap year.\")\n",
    "    else:\n",
    "        print(\"Is a leap year.\")\n",
    "else:\n",
    "    print(\"Is not a leap year.\")"
   ]
  },
  {
   "cell_type": "markdown",
   "id": "1eb6eab2",
   "metadata": {},
   "source": [
    "#### Ask the user for a number. If it’s even and divisible by 5, print “Valid”, otherwise “Invalid”.\n"
   ]
  },
  {
   "cell_type": "code",
   "execution_count": 12,
   "id": "fce3b136",
   "metadata": {},
   "outputs": [
    {
     "name": "stdout",
     "output_type": "stream",
     "text": [
      "THise number is Valid.\n"
     ]
    }
   ],
   "source": [
    "num = int(input(\"Enter the number:\"))\n",
    "\n",
    "if num%2==0 | num%5==0:\n",
    "    print(\"THise number is Valid.\")\n",
    "else:\n",
    "    print(\"Thise number is invalid.\")"
   ]
  },
  {
   "cell_type": "code",
   "execution_count": 3,
   "id": "54ea327b",
   "metadata": {},
   "outputs": [
    {
     "name": "stdout",
     "output_type": "stream",
     "text": [
      "0\n",
      "1\n",
      "4\n",
      "9\n",
      "16\n"
     ]
    }
   ],
   "source": [
    "n = int(input())\n",
    "\n",
    "for i in range(0,n):\n",
    "    print(i**2)"
   ]
  },
  {
   "cell_type": "code",
   "execution_count": 4,
   "id": "cd9ad510",
   "metadata": {},
   "outputs": [
    {
     "name": "stdout",
     "output_type": "stream",
     "text": [
      "Xitij Start with Capital letter.\n"
     ]
    }
   ],
   "source": [
    "str = input(\"Enter the string :\")\n",
    "\n",
    "if str and str[0].isupper():\n",
    "    print(f\"{str} Start with Capital letter.\")\n",
    "else:\n",
    "    print(f\"{str} Not start with capital letter.\")\n"
   ]
  },
  {
   "cell_type": "code",
   "execution_count": 7,
   "id": "731b1f3d",
   "metadata": {},
   "outputs": [
    {
     "name": "stdout",
     "output_type": "stream",
     "text": [
      "The charecter is vowels.\n"
     ]
    }
   ],
   "source": [
    "char = input(\"Enter a single alphabet character:\")\n",
    "\n",
    "if len(char) == 1 and char.isalpha():\n",
    "    char = char.lower()\n",
    "    if char in ['a','e','i','o','u']:\n",
    "        print(\"The charecter is vowels.\")\n",
    "    else:\n",
    "        print(\"The charecter is consonant.\")\n",
    "else:\n",
    "    print(\"Invalid input. please enter a single alphabet charecter!\")"
   ]
  },
  {
   "cell_type": "code",
   "execution_count": 9,
   "id": "bfdddda0",
   "metadata": {},
   "outputs": [
    {
     "name": "stdout",
     "output_type": "stream",
     "text": [
      "Temprature To Hot\n"
     ]
    }
   ],
   "source": [
    "temp = int(input(\"Enter the temprature Value in C:\"))\n",
    "\n",
    "if temp >=35:\n",
    "    print(\"Temprature To Hot\")\n",
    "elif temp >=15 and temp<35:\n",
    "    print(\"Temprature is Normal.\")\n",
    "elif temp<15:\n",
    "    print(\"Temprature is cold.\")\n",
    "else:\n",
    "    print(\"INvalid!\")\n"
   ]
  },
  {
   "cell_type": "code",
   "execution_count": null,
   "id": "8cc6289e",
   "metadata": {},
   "outputs": [],
   "source": []
  }
 ],
 "metadata": {
  "kernelspec": {
   "display_name": "Python 3",
   "language": "python",
   "name": "python3"
  },
  "language_info": {
   "codemirror_mode": {
    "name": "ipython",
    "version": 3
   },
   "file_extension": ".py",
   "mimetype": "text/x-python",
   "name": "python",
   "nbconvert_exporter": "python",
   "pygments_lexer": "ipython3",
   "version": "3.10.0"
  }
 },
 "nbformat": 4,
 "nbformat_minor": 5
}
