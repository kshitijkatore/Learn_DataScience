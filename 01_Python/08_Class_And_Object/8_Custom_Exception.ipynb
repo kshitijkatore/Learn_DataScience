{
 "cells": [
  {
   "cell_type": "code",
   "execution_count": null,
   "id": "ecd7cadd",
   "metadata": {},
   "outputs": [],
   "source": [
    "class  Error(Exception):\n",
    "    pass\n",
    "\n",
    "class dobException(Error):\n",
    "    pass"
   ]
  },
  {
   "cell_type": "code",
   "execution_count": null,
   "id": "eb8c7820",
   "metadata": {},
   "outputs": [
    {
     "name": "stdout",
     "output_type": "stream",
     "text": [
      "Sorry, your age should be greter that 20 or less than 30\n"
     ]
    }
   ],
   "source": [
    "year = int(input(\"Enter the DOB :\"))\n",
    "\n",
    "age = 2025-year\n",
    "try:\n",
    "    if age<=30 and age>=20:\n",
    "        print(\"The age is valid so can apply for the exam.\")\n",
    "    else:\n",
    "        raise dobException\n",
    "except dobException:\n",
    "    print(\"Sorry, your age should be greter that 20 or less than 30\")\n"
   ]
  },
  {
   "cell_type": "code",
   "execution_count": null,
   "id": "b98ec2e7",
   "metadata": {},
   "outputs": [],
   "source": []
  }
 ],
 "metadata": {
  "kernelspec": {
   "display_name": "Python 3",
   "language": "python",
   "name": "python3"
  },
  "language_info": {
   "codemirror_mode": {
    "name": "ipython",
    "version": 3
   },
   "file_extension": ".py",
   "mimetype": "text/x-python",
   "name": "python",
   "nbconvert_exporter": "python",
   "pygments_lexer": "ipython3",
   "version": "3.10.0"
  }
 },
 "nbformat": 4,
 "nbformat_minor": 5
}
