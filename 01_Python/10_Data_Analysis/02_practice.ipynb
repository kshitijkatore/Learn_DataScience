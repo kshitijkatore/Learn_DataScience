{
 "cells": [
  {
   "cell_type": "code",
   "execution_count": 2,
   "id": "af7c150c",
   "metadata": {},
   "outputs": [],
   "source": [
    "import pandas as pd\n",
    "\n",
    "employee_df = pd.read_csv(\"employees.csv\")\n",
    "sales_df = pd.read_csv(\"sales.csv\")\n",
    "product_df = pd.read_csv(\"product_sales.csv\")\n",
    "customers_df = pd.read_csv(\"customers.csv\")\n",
    "\n"
   ]
  },
  {
   "cell_type": "code",
   "execution_count": 3,
   "id": "55ac6e11",
   "metadata": {},
   "outputs": [
    {
     "name": "stdout",
     "output_type": "stream",
     "text": [
      "   EmployeeID     Name Department  Salary JoiningDate\n",
      "0        1001    Alice         HR   48633  2018-01-01\n",
      "1        1002      Bob         IT   74238  2018-06-30\n",
      "2        1003  Charlie    Finance   68408  2018-12-27\n",
      "3        1004    David         IT   70512  2019-06-25\n",
      "4        1005      Eva         HR   70051  2019-12-22\n",
      "5        1006    Frank  Marketing   64278  2020-06-19\n",
      "6        1007    Grace    Finance   46296  2020-12-16\n",
      "7        1008    Helen         IT   44599  2021-06-14\n",
      "8        1009      Ian  Marketing   89204  2021-12-11\n",
      "9        1010     Jack         HR   89438  2022-06-09\n"
     ]
    }
   ],
   "source": [
    "print(employee_df)"
   ]
  },
  {
   "cell_type": "code",
   "execution_count": 4,
   "id": "135e28be",
   "metadata": {},
   "outputs": [
    {
     "name": "stdout",
     "output_type": "stream",
     "text": [
      "    SaleID  Product Region SalesPerson   Amount        Date\n",
      "0        1   Laptop  South       Frank  1129.58  2023-01-01\n",
      "1        2    Phone  North     Charlie   630.00  2023-01-16\n",
      "2        3   Tablet   East        Jack   428.12  2023-01-31\n",
      "3        4   Laptop  North       Alice  1360.84  2023-02-15\n",
      "4        5    Phone  North        Jack   870.96  2023-03-02\n",
      "5        6  Monitor   West       Frank  1410.26  2023-03-17\n",
      "6        7   Laptop  South       Grace   727.90  2023-04-01\n",
      "7        8    Phone   West        Jack   239.40  2023-04-16\n",
      "8        9   Tablet  South       Grace   470.17  2023-05-01\n",
      "9       10    Phone   West         Ian   414.57  2023-05-16\n",
      "10      11    Phone  North       Alice   781.42  2023-05-31\n",
      "11      12   Tablet   East     Charlie   566.21  2023-06-15\n",
      "12      13   Tablet   East       Helen   576.56  2023-06-30\n",
      "13      14    Phone   West       David   742.15  2023-07-15\n",
      "14      15   Tablet  South     Charlie   509.13  2023-07-30\n",
      "15      16   Tablet  North       Frank   660.26  2023-08-14\n",
      "16      17   Tablet  North         Ian   403.15  2023-08-29\n",
      "17      18   Tablet  South       Helen   605.16  2023-09-13\n",
      "18      19  Monitor   East       Helen  1411.91  2023-09-28\n",
      "19      20   Tablet   East         Eva   710.15  2023-10-13\n"
     ]
    }
   ],
   "source": [
    "print(sales_df)"
   ]
  },
  {
   "cell_type": "code",
   "execution_count": 5,
   "id": "3c3dec88",
   "metadata": {},
   "outputs": [
    {
     "name": "stdout",
     "output_type": "stream",
     "text": [
      "   Product_1  Product_2  Product_3  Product_4  Product_5  Product_6\n",
      "0         25         70         41         87        196        188\n",
      "1        103        165        159         78         88         69\n",
      "2        155        161         36        121        196        113\n",
      "3        130        103         77        185         51         62\n",
      "4         50         49         38         27        160         76\n",
      "5        121         38        163         41        117        149\n",
      "6         64        194         47        182        180         86\n",
      "7        114        128        169        136         43         36\n",
      "8        151        105         93         60        166        192\n",
      "9         29        163        162         89         40         26\n"
     ]
    }
   ],
   "source": [
    "print(product_df)"
   ]
  },
  {
   "cell_type": "code",
   "execution_count": 6,
   "id": "d8dabda0",
   "metadata": {},
   "outputs": [
    {
     "name": "stdout",
     "output_type": "stream",
     "text": [
      "   CustomerID    Name       City  Age  Gender\n",
      "0         501     Tom     Mumbai   30    Male\n",
      "1         502   Jerry  Bangalore   42  Female\n",
      "2         503    Anna  Bangalore   22    Male\n",
      "3         504    Sara    Chennai   54  Female\n",
      "4         505    Mike      Delhi   24  Female\n",
      "5         506   Linda     Mumbai   21  Female\n",
      "6         507   Steve      Delhi   20  Female\n",
      "7         508  Rachel     Mumbai   54  Female\n",
      "8         509    Ryan      Delhi   29    Male\n",
      "9         510    Nina     Mumbai   24  Female\n"
     ]
    }
   ],
   "source": [
    "print(customers_df)"
   ]
  },
  {
   "cell_type": "code",
   "execution_count": 12,
   "id": "249c290d",
   "metadata": {},
   "outputs": [
    {
     "name": "stdout",
     "output_type": "stream",
     "text": [
      "(20, 6)\n",
      "(10, 6)\n",
      "(10, 5)\n"
     ]
    }
   ],
   "source": [
    "employee_df.shape\n",
    "print(sales_df.shape)\n",
    "print(product_df.shape)\n",
    "print(customers_df.shape)"
   ]
  },
  {
   "cell_type": "code",
   "execution_count": 16,
   "id": "0ab432e7",
   "metadata": {},
   "outputs": [
    {
     "name": "stdout",
     "output_type": "stream",
     "text": [
      "Index(['EmployeeID', 'Name', 'Department', 'Salary', 'JoiningDate'], dtype='object')\n",
      "Index(['SaleID', 'Product', 'Region', 'SalesPerson', 'Amount', 'Date'], dtype='object')\n",
      "Index(['Product_1', 'Product_2', 'Product_3', 'Product_4', 'Product_5',\n",
      "       'Product_6'],\n",
      "      dtype='object')\n",
      "Index(['CustomerID', 'Name', 'City', 'Age', 'Gender'], dtype='object')\n"
     ]
    }
   ],
   "source": [
    "print(employee_df.columns)\n",
    "print(sales_df.columns)\n",
    "print(product_df.columns)\n",
    "print(customers_df.columns)"
   ]
  },
  {
   "cell_type": "code",
   "execution_count": 20,
   "id": "be757fc1",
   "metadata": {},
   "outputs": [
    {
     "name": "stdout",
     "output_type": "stream",
     "text": [
      "EmployeeID      int64\n",
      "Name           object\n",
      "Department     object\n",
      "Salary          int64\n",
      "JoiningDate    object\n",
      "dtype: object\n",
      "SaleID           int64\n",
      "Product         object\n",
      "Region          object\n",
      "SalesPerson     object\n",
      "Amount         float64\n",
      "Date            object\n",
      "dtype: object\n",
      "Product_1    int64\n",
      "Product_2    int64\n",
      "Product_3    int64\n",
      "Product_4    int64\n",
      "Product_5    int64\n",
      "Product_6    int64\n",
      "dtype: object\n",
      "CustomerID     int64\n",
      "Name          object\n",
      "City          object\n",
      "Age            int64\n",
      "Gender        object\n",
      "dtype: object\n"
     ]
    }
   ],
   "source": [
    "print(employee_df.dtypes)\n",
    "print(sales_df.dtypes)\n",
    "print(product_df.dtypes)\n",
    "print(customers_df.dtypes)"
   ]
  },
  {
   "cell_type": "code",
   "execution_count": 22,
   "id": "998a7ae2",
   "metadata": {},
   "outputs": [
    {
     "name": "stdout",
     "output_type": "stream",
     "text": [
      "First 3 row :\n",
      "    EmployeeID     Name Department  Salary JoiningDate\n",
      "0        1001    Alice         HR   48633  2018-01-01\n",
      "1        1002      Bob         IT   74238  2018-06-30\n",
      "2        1003  Charlie    Finance   68408  2018-12-27\n",
      "Last 3 row :\n",
      "    EmployeeID   Name Department  Salary JoiningDate\n",
      "7        1008  Helen         IT   44599  2021-06-14\n",
      "8        1009    Ian  Marketing   89204  2021-12-11\n",
      "9        1010   Jack         HR   89438  2022-06-09\n"
     ]
    }
   ],
   "source": [
    "print(\"First 3 row :\\n\",employee_df.head(3))\n",
    "print(\"Last 3 row :\\n\", employee_df.tail(3))"
   ]
  },
  {
   "cell_type": "code",
   "execution_count": null,
   "id": "f801aa85",
   "metadata": {},
   "outputs": [
    {
     "data": {
      "text/html": [
       "<div>\n",
       "<style scoped>\n",
       "    .dataframe tbody tr th:only-of-type {\n",
       "        vertical-align: middle;\n",
       "    }\n",
       "\n",
       "    .dataframe tbody tr th {\n",
       "        vertical-align: top;\n",
       "    }\n",
       "\n",
       "    .dataframe thead th {\n",
       "        text-align: right;\n",
       "    }\n",
       "</style>\n",
       "<table border=\"1\" class=\"dataframe\">\n",
       "  <thead>\n",
       "    <tr style=\"text-align: right;\">\n",
       "      <th></th>\n",
       "      <th>EmployeeID</th>\n",
       "      <th>Name</th>\n",
       "      <th>Department</th>\n",
       "      <th>Salary</th>\n",
       "      <th>JoiningDate</th>\n",
       "    </tr>\n",
       "  </thead>\n",
       "  <tbody>\n",
       "    <tr>\n",
       "      <th>0</th>\n",
       "      <td>True</td>\n",
       "      <td>True</td>\n",
       "      <td>True</td>\n",
       "      <td>True</td>\n",
       "      <td>True</td>\n",
       "    </tr>\n",
       "    <tr>\n",
       "      <th>1</th>\n",
       "      <td>True</td>\n",
       "      <td>True</td>\n",
       "      <td>True</td>\n",
       "      <td>True</td>\n",
       "      <td>True</td>\n",
       "    </tr>\n",
       "    <tr>\n",
       "      <th>2</th>\n",
       "      <td>True</td>\n",
       "      <td>True</td>\n",
       "      <td>True</td>\n",
       "      <td>True</td>\n",
       "      <td>True</td>\n",
       "    </tr>\n",
       "    <tr>\n",
       "      <th>3</th>\n",
       "      <td>True</td>\n",
       "      <td>True</td>\n",
       "      <td>True</td>\n",
       "      <td>True</td>\n",
       "      <td>True</td>\n",
       "    </tr>\n",
       "    <tr>\n",
       "      <th>4</th>\n",
       "      <td>True</td>\n",
       "      <td>True</td>\n",
       "      <td>True</td>\n",
       "      <td>True</td>\n",
       "      <td>True</td>\n",
       "    </tr>\n",
       "    <tr>\n",
       "      <th>5</th>\n",
       "      <td>True</td>\n",
       "      <td>True</td>\n",
       "      <td>True</td>\n",
       "      <td>True</td>\n",
       "      <td>True</td>\n",
       "    </tr>\n",
       "    <tr>\n",
       "      <th>6</th>\n",
       "      <td>True</td>\n",
       "      <td>True</td>\n",
       "      <td>True</td>\n",
       "      <td>True</td>\n",
       "      <td>True</td>\n",
       "    </tr>\n",
       "    <tr>\n",
       "      <th>7</th>\n",
       "      <td>True</td>\n",
       "      <td>True</td>\n",
       "      <td>True</td>\n",
       "      <td>True</td>\n",
       "      <td>True</td>\n",
       "    </tr>\n",
       "    <tr>\n",
       "      <th>8</th>\n",
       "      <td>True</td>\n",
       "      <td>True</td>\n",
       "      <td>True</td>\n",
       "      <td>True</td>\n",
       "      <td>True</td>\n",
       "    </tr>\n",
       "    <tr>\n",
       "      <th>9</th>\n",
       "      <td>True</td>\n",
       "      <td>True</td>\n",
       "      <td>True</td>\n",
       "      <td>True</td>\n",
       "      <td>True</td>\n",
       "    </tr>\n",
       "  </tbody>\n",
       "</table>\n",
       "</div>"
      ],
      "text/plain": [
       "   EmployeeID  Name  Department  Salary  JoiningDate\n",
       "0        True  True        True    True         True\n",
       "1        True  True        True    True         True\n",
       "2        True  True        True    True         True\n",
       "3        True  True        True    True         True\n",
       "4        True  True        True    True         True\n",
       "5        True  True        True    True         True\n",
       "6        True  True        True    True         True\n",
       "7        True  True        True    True         True\n",
       "8        True  True        True    True         True\n",
       "9        True  True        True    True         True"
      ]
     },
     "execution_count": 23,
     "metadata": {},
     "output_type": "execute_result"
    }
   ],
   "source": [
    "employee_df.notnull()"
   ]
  },
  {
   "cell_type": "code",
   "execution_count": 25,
   "id": "cd4f3942",
   "metadata": {},
   "outputs": [
    {
     "name": "stdout",
     "output_type": "stream",
     "text": [
      "EmployeeID     0\n",
      "Name           0\n",
      "Department     0\n",
      "Salary         0\n",
      "JoiningDate    0\n",
      "dtype: int64\n"
     ]
    }
   ],
   "source": [
    "print(employee_df.isnull().sum())"
   ]
  },
  {
   "cell_type": "code",
   "execution_count": 26,
   "id": "57a447d7",
   "metadata": {},
   "outputs": [
    {
     "name": "stdout",
     "output_type": "stream",
     "text": [
      "SaleID         0\n",
      "Product        0\n",
      "Region         0\n",
      "SalesPerson    0\n",
      "Amount         0\n",
      "Date           0\n",
      "dtype: int64\n"
     ]
    }
   ],
   "source": [
    "print(sales_df.isnull().sum())"
   ]
  },
  {
   "cell_type": "code",
   "execution_count": 27,
   "id": "527ddf35",
   "metadata": {},
   "outputs": [
    {
     "name": "stdout",
     "output_type": "stream",
     "text": [
      "Product_1    0\n",
      "Product_2    0\n",
      "Product_3    0\n",
      "Product_4    0\n",
      "Product_5    0\n",
      "Product_6    0\n",
      "dtype: int64\n"
     ]
    }
   ],
   "source": [
    "print(product_df.isnull().sum())\n"
   ]
  },
  {
   "cell_type": "code",
   "execution_count": 28,
   "id": "2275b04f",
   "metadata": {},
   "outputs": [
    {
     "name": "stdout",
     "output_type": "stream",
     "text": [
      "CustomerID    0\n",
      "Name          0\n",
      "City          0\n",
      "Age           0\n",
      "Gender        0\n",
      "dtype: int64\n"
     ]
    }
   ],
   "source": [
    "print(customers_df.isnull().sum())"
   ]
  },
  {
   "cell_type": "code",
   "execution_count": 33,
   "id": "2296e23c",
   "metadata": {},
   "outputs": [
    {
     "name": "stdout",
     "output_type": "stream",
     "text": [
      "0\n",
      "0\n",
      "0\n",
      "   CustomerID    Name       City  Age  Gender\n",
      "0         501     Tom     Mumbai   30    Male\n",
      "1         502   Jerry  Bangalore   42  Female\n",
      "2         503    Anna  Bangalore   22    Male\n",
      "3         504    Sara    Chennai   54  Female\n",
      "4         505    Mike      Delhi   24  Female\n",
      "5         506   Linda     Mumbai   21  Female\n",
      "6         507   Steve      Delhi   20  Female\n",
      "7         508  Rachel     Mumbai   54  Female\n",
      "8         509    Ryan      Delhi   29    Male\n",
      "9         510    Nina     Mumbai   24  Female\n"
     ]
    }
   ],
   "source": [
    "print(employee_df.duplicated().sum())\n",
    "print(sales_df.duplicated().sum())\n",
    "print(product_df.duplicated().sum())\n",
    "print(customers_df.drop_duplicates())"
   ]
  },
  {
   "cell_type": "code",
   "execution_count": 38,
   "id": "c691f159",
   "metadata": {},
   "outputs": [
    {
     "name": "stdout",
     "output_type": "stream",
     "text": [
      "Index(['EmployeeID', 'Name', 'Department', 'Salary', 'JoiningDate'], dtype='object')\n",
      "Rename the employeee name\n",
      "None\n"
     ]
    }
   ],
   "source": [
    "print(employee_df.columns)\n",
    "print(\"Rename the employeee name\")\n",
    "\n",
    "print(employee_df.rename(columns={'Name' : 'Employee_Name'}, inplace=True))"
   ]
  },
  {
   "cell_type": "code",
   "execution_count": 39,
   "id": "bc97850b",
   "metadata": {},
   "outputs": [
    {
     "name": "stdout",
     "output_type": "stream",
     "text": [
      "   EmployeeID Employee_Name Department  Salary JoiningDate\n",
      "0        1001         Alice         HR   48633  2018-01-01\n",
      "1        1002           Bob         IT   74238  2018-06-30\n",
      "2        1003       Charlie    Finance   68408  2018-12-27\n",
      "3        1004         David         IT   70512  2019-06-25\n",
      "4        1005           Eva         HR   70051  2019-12-22\n",
      "5        1006         Frank  Marketing   64278  2020-06-19\n",
      "6        1007         Grace    Finance   46296  2020-12-16\n",
      "7        1008         Helen         IT   44599  2021-06-14\n",
      "8        1009           Ian  Marketing   89204  2021-12-11\n",
      "9        1010          Jack         HR   89438  2022-06-09\n"
     ]
    }
   ],
   "source": [
    "print(employee_df)"
   ]
  },
  {
   "cell_type": "code",
   "execution_count": 40,
   "id": "5f410a14",
   "metadata": {},
   "outputs": [
    {
     "name": "stdout",
     "output_type": "stream",
     "text": [
      "   EmployeeID Employee_Name Department  Salary JoiningDate\n",
      "1        1002           Bob         IT   74238  2018-06-30\n",
      "3        1004         David         IT   70512  2019-06-25\n",
      "7        1008         Helen         IT   44599  2021-06-14\n"
     ]
    }
   ],
   "source": [
    "it_employee = employee_df[employee_df[\"Department\"]==\"IT\"]\n",
    "print(it_employee)"
   ]
  },
  {
   "cell_type": "code",
   "execution_count": 41,
   "id": "aaa5bf50",
   "metadata": {},
   "outputs": [
    {
     "name": "stdout",
     "output_type": "stream",
     "text": [
      "   EmployeeID Employee_Name Department  Salary JoiningDate\n",
      "0        1001         Alice         HR   48633  2018-01-01\n",
      "4        1005           Eva         HR   70051  2019-12-22\n",
      "9        1010          Jack         HR   89438  2022-06-09\n"
     ]
    }
   ],
   "source": [
    "HR_employee = employee_df[employee_df[\"Department\"]== \"HR\"]\n",
    "print(HR_employee)"
   ]
  },
  {
   "cell_type": "code",
   "execution_count": 42,
   "id": "1178410e",
   "metadata": {},
   "outputs": [
    {
     "name": "stdout",
     "output_type": "stream",
     "text": [
      "   EmployeeID Employee_Name Department  Salary JoiningDate\n",
      "5        1006         Frank  Marketing   64278  2020-06-19\n",
      "8        1009           Ian  Marketing   89204  2021-12-11\n"
     ]
    }
   ],
   "source": [
    "mrkt_employee = employee_df[employee_df[\"Department\"] == \"Marketing\"]\n",
    "print(mrkt_employee)"
   ]
  },
  {
   "cell_type": "code",
   "execution_count": 43,
   "id": "9af81e82",
   "metadata": {},
   "outputs": [
    {
     "name": "stdout",
     "output_type": "stream",
     "text": [
      "   EmployeeID Employee_Name Department  Salary JoiningDate\n",
      "2        1003       Charlie    Finance   68408  2018-12-27\n",
      "6        1007         Grace    Finance   46296  2020-12-16\n"
     ]
    }
   ],
   "source": [
    "fin_employee= employee_df[employee_df[\"Department\"] == \"Finance\"]\n",
    "print(fin_employee)"
   ]
  },
  {
   "cell_type": "code",
   "execution_count": 44,
   "id": "dacdab2d",
   "metadata": {},
   "outputs": [
    {
     "name": "stdout",
     "output_type": "stream",
     "text": [
      "    SaleID  Product Region SalesPerson   Amount        Date\n",
      "0        1   Laptop  South       Frank  1129.58  2023-01-01\n",
      "1        2    Phone  North     Charlie   630.00  2023-01-16\n",
      "2        3   Tablet   East        Jack   428.12  2023-01-31\n",
      "3        4   Laptop  North       Alice  1360.84  2023-02-15\n",
      "4        5    Phone  North        Jack   870.96  2023-03-02\n",
      "5        6  Monitor   West       Frank  1410.26  2023-03-17\n",
      "6        7   Laptop  South       Grace   727.90  2023-04-01\n",
      "7        8    Phone   West        Jack   239.40  2023-04-16\n",
      "8        9   Tablet  South       Grace   470.17  2023-05-01\n",
      "9       10    Phone   West         Ian   414.57  2023-05-16\n",
      "10      11    Phone  North       Alice   781.42  2023-05-31\n",
      "11      12   Tablet   East     Charlie   566.21  2023-06-15\n",
      "12      13   Tablet   East       Helen   576.56  2023-06-30\n",
      "13      14    Phone   West       David   742.15  2023-07-15\n",
      "14      15   Tablet  South     Charlie   509.13  2023-07-30\n",
      "15      16   Tablet  North       Frank   660.26  2023-08-14\n",
      "16      17   Tablet  North         Ian   403.15  2023-08-29\n",
      "17      18   Tablet  South       Helen   605.16  2023-09-13\n",
      "18      19  Monitor   East       Helen  1411.91  2023-09-28\n",
      "19      20   Tablet   East         Eva   710.15  2023-10-13\n"
     ]
    }
   ],
   "source": [
    "print(sales_df)"
   ]
  },
  {
   "cell_type": "code",
   "execution_count": 45,
   "id": "fbdfb73f",
   "metadata": {},
   "outputs": [
    {
     "name": "stdout",
     "output_type": "stream",
     "text": [
      "    SaleID  Product Region SalesPerson   Amount        Date\n",
      "0        1   Laptop  South       Frank  1129.58  2023-01-01\n",
      "3        4   Laptop  North       Alice  1360.84  2023-02-15\n",
      "5        6  Monitor   West       Frank  1410.26  2023-03-17\n",
      "18      19  Monitor   East       Helen  1411.91  2023-09-28\n"
     ]
    }
   ],
   "source": [
    "print(sales_df[sales_df[\"Amount\"] > 1000])\n"
   ]
  },
  {
   "cell_type": "code",
   "execution_count": 46,
   "id": "bc53646e",
   "metadata": {},
   "outputs": [
    {
     "name": "stdout",
     "output_type": "stream",
     "text": [
      "   CustomerID    Name       City  Age  Gender\n",
      "0         501     Tom     Mumbai   30    Male\n",
      "1         502   Jerry  Bangalore   42  Female\n",
      "2         503    Anna  Bangalore   22    Male\n",
      "3         504    Sara    Chennai   54  Female\n",
      "4         505    Mike      Delhi   24  Female\n",
      "5         506   Linda     Mumbai   21  Female\n",
      "6         507   Steve      Delhi   20  Female\n",
      "7         508  Rachel     Mumbai   54  Female\n",
      "8         509    Ryan      Delhi   29    Male\n",
      "9         510    Nina     Mumbai   24  Female\n"
     ]
    }
   ],
   "source": [
    "print(customers_df)"
   ]
  },
  {
   "cell_type": "code",
   "execution_count": 49,
   "id": "45c11a04",
   "metadata": {},
   "outputs": [
    {
     "name": "stdout",
     "output_type": "stream",
     "text": [
      "   CustomerID   Name    City  Age  Gender\n",
      "4         505   Mike   Delhi   24  Female\n",
      "5         506  Linda  Mumbai   21  Female\n",
      "6         507  Steve   Delhi   20  Female\n",
      "8         509   Ryan   Delhi   29    Male\n",
      "9         510   Nina  Mumbai   24  Female\n"
     ]
    }
   ],
   "source": [
    "young_customers = customers_df[\n",
    "    (customers_df['City'].isin([\"Delhi\", \"Mumbai\"])) &\n",
    "    (customers_df[\"Age\"] < 30)\n",
    "]\n",
    "\n",
    "print(young_customers)\n"
   ]
  },
  {
   "cell_type": "code",
   "execution_count": null,
   "id": "5bfc1005",
   "metadata": {},
   "outputs": [],
   "source": []
  }
 ],
 "metadata": {
  "kernelspec": {
   "display_name": "Python 3",
   "language": "python",
   "name": "python3"
  },
  "language_info": {
   "codemirror_mode": {
    "name": "ipython",
    "version": 3
   },
   "file_extension": ".py",
   "mimetype": "text/x-python",
   "name": "python",
   "nbconvert_exporter": "python",
   "pygments_lexer": "ipython3",
   "version": "3.10.0"
  }
 },
 "nbformat": 4,
 "nbformat_minor": 5
}
