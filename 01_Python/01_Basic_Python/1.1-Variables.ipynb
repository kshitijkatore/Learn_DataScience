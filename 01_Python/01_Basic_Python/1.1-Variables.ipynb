{
 "cells": [
  {
   "cell_type": "markdown",
   "id": "491a7004",
   "metadata": {},
   "source": [
    "#### Decraring And Assigning Variable\n"
   ]
  },
  {
   "cell_type": "code",
   "execution_count": 4,
   "id": "0caa47ff",
   "metadata": {},
   "outputs": [
    {
     "name": "stdout",
     "output_type": "stream",
     "text": [
      "Age:  20\n",
      "Height:  5.4\n",
      "Name : Xitij\n"
     ]
    }
   ],
   "source": [
    "age = 20\n",
    "height = 5.4\n",
    "name = \"Xitij\"\n",
    "is_student = True\n",
    "\n",
    "\n",
    "## printing the variable\n",
    "print(\"Age: \", age)\n",
    "print(\"Height: \", height)\n",
    "print(\"Name :\", name)"
   ]
  },
  {
   "cell_type": "code",
   "execution_count": null,
   "id": "a0fd002a",
   "metadata": {},
   "outputs": [
    {
     "name": "stdout",
     "output_type": "stream",
     "text": [
      "<class 'int'>\n",
      "<class 'float'>\n",
      "<class 'str'>\n",
      "<class 'bool'>\n"
     ]
    }
   ],
   "source": [
    "# Understanding variable type\n",
    "# python is dynamically typed, type of a variable assign runtime.\n",
    "\n",
    "print(type(age))\n",
    "print(type(height))\n",
    "print(type(name))\n",
    "print(type(is_student))"
   ]
  },
  {
   "cell_type": "code",
   "execution_count": null,
   "id": "8aa8008b",
   "metadata": {},
   "outputs": [
    {
     "name": "stdout",
     "output_type": "stream",
     "text": [
      "Xitij Katore\n"
     ]
    }
   ],
   "source": [
    "## Naming Convention\n",
    "\n",
    "# Variable names should be descriptive\n",
    "# They must start with a letter or an '_' and contans letters, numbers and underscore in Betweeen\n",
    "# variable names case sensitive\n",
    "\n",
    "# valid variable names\n",
    "\n",
    "first_name = \"Xitij\"\n",
    "last_name = \"Katore\"\n",
    "\n",
    "print(first_name +\" \"+last_name)"
   ]
  },
  {
   "cell_type": "code",
   "execution_count": 12,
   "id": "b950145b",
   "metadata": {},
   "outputs": [
    {
     "name": "stdout",
     "output_type": "stream",
     "text": [
      "10 <class 'int'>\n",
      "xitij <class 'str'>\n",
      "3.14 <class 'float'>\n"
     ]
    }
   ],
   "source": [
    "## Dynamic Typing\n",
    "## python allows the type of a variable to change program as a variable\n",
    "\n",
    "var = 10\n",
    "print(var,type(var))\n",
    "\n",
    "var = \"xitij\"\n",
    "print(var, type(var))\n",
    "\n",
    "var = 3.14\n",
    "print(var, type(var))\n",
    "\n",
    "\n",
    "\n"
   ]
  },
  {
   "cell_type": "code",
   "execution_count": 14,
   "id": "c3a9b108",
   "metadata": {},
   "outputs": [
    {
     "name": "stdout",
     "output_type": "stream",
     "text": [
      "20 <class 'int'>\n"
     ]
    }
   ],
   "source": [
    "## Input\n",
    "\n",
    "Age = int(input(\"Enter the age :\"))\n",
    "print(Age, type(Age))"
   ]
  },
  {
   "cell_type": "code",
   "execution_count": 16,
   "id": "7d2a062b",
   "metadata": {},
   "outputs": [
    {
     "name": "stdout",
     "output_type": "stream",
     "text": [
      "Sum:  57.77\n",
      "difference: -32.910000000000004\n",
      "Product:  563.5762000000001\n",
      "Quotient: 0.27415086016762236\n"
     ]
    }
   ],
   "source": [
    "## Simple Calculator\n",
    "\n",
    "num_1 = float(input(\"ENter the first Number: \"))\n",
    "num_2 = float(input(\"Enter the Second number: \"))\n",
    "\n",
    "sum = num_1 + num_2\n",
    "difference = num_1 - num_2\n",
    "product = num_1 * num_2\n",
    "quotient = num_1 / num_2\n",
    "\n",
    "print(\"Sum: \", sum)\n",
    "print(\"difference:\", difference)\n",
    "print(\"Product: \", product)\n",
    "print(\"Quotient:\", quotient)\n",
    "\n"
   ]
  }
 ],
 "metadata": {
  "kernelspec": {
   "display_name": "Python 3",
   "language": "python",
   "name": "python3"
  },
  "language_info": {
   "codemirror_mode": {
    "name": "ipython",
    "version": 3
   },
   "file_extension": ".py",
   "mimetype": "text/x-python",
   "name": "python",
   "nbconvert_exporter": "python",
   "pygments_lexer": "ipython3",
   "version": "3.10.0"
  }
 },
 "nbformat": 4,
 "nbformat_minor": 5
}
