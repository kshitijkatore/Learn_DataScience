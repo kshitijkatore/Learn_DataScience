{
 "cells": [
  {
   "cell_type": "code",
   "execution_count": null,
   "id": "569ce34a",
   "metadata": {},
   "outputs": [],
   "source": [
    "## Syntax\n",
    "# def function_name(parameters):\n",
    "#     \"\"\"Docstring\"\"\"\n",
    "#     # Function Body\n",
    "#     return expression"
   ]
  },
  {
   "cell_type": "code",
   "execution_count": 1,
   "id": "3261fc5f",
   "metadata": {},
   "outputs": [
    {
     "name": "stdout",
     "output_type": "stream",
     "text": [
      "24:The number is even\n"
     ]
    }
   ],
   "source": [
    "def even_or_odd(num):\n",
    "    if num%2==0:\n",
    "        print(f\"{num}:The number is even\")\n",
    "    else:\n",
    "        print(f\"{num}:The number is odd\")\n",
    "\n",
    "# Calling function\n",
    "even_or_odd(24)"
   ]
  },
  {
   "cell_type": "code",
   "execution_count": 4,
   "id": "b601beba",
   "metadata": {},
   "outputs": [
    {
     "name": "stdout",
     "output_type": "stream",
     "text": [
      "30\n"
     ]
    }
   ],
   "source": [
    "## function with multiple parameters\n",
    "num1 = int(input(\"Enter the First number:\"))\n",
    "num2 = int(input(\"Enter the Second number:\"))\n",
    "\n",
    "def add(a,b):\n",
    "    return a+b\n",
    "\n",
    "result = add(num1, num2)\n",
    "print(result)"
   ]
  },
  {
   "cell_type": "code",
   "execution_count": 6,
   "id": "42aa517a",
   "metadata": {},
   "outputs": [
    {
     "name": "stdout",
     "output_type": "stream",
     "text": [
      "Heloo Xitij Welcome To the paradise\n"
     ]
    }
   ],
   "source": [
    "## Default Parameters\n",
    "def greet(name):\n",
    "    print(f\"Heloo {name} Welcome To the paradise\")\n",
    "\n",
    "greet(\"Xitij\")"
   ]
  },
  {
   "cell_type": "code",
   "execution_count": null,
   "id": "4d292647",
   "metadata": {},
   "outputs": [
    {
     "name": "stdout",
     "output_type": "stream",
     "text": [
      "1\n",
      "2\n",
      "3\n",
      "4\n",
      "5\n",
      "xitij\n",
      "3.14\n"
     ]
    }
   ],
   "source": [
    "## variable Lenght Arguments\n",
    "## Positional And Keywords arguments\n",
    "\n",
    "## positional Arguments\n",
    "def print_numbers(*args):\n",
    "    for number in args:\n",
    "        print(number)\n",
    "\n",
    "print_numbers(1,2,3,4,5,\"xitij\",3.14)\n"
   ]
  },
  {
   "cell_type": "code",
   "execution_count": 9,
   "id": "fe8c4ec1",
   "metadata": {},
   "outputs": [
    {
     "name": "stdout",
     "output_type": "stream",
     "text": [
      "name:Xitij\n",
      "age:20\n",
      "country:India\n"
     ]
    }
   ],
   "source": [
    "## Keywords Arguments\n",
    "\n",
    "def print_details(**kwargs):\n",
    "    for key,value in kwargs.items():\n",
    "        print(f\"{key}:{value}\")\n",
    "\n",
    "print_details(name=\"Xitij\",age=\"20\",country=\"India\")\n"
   ]
  },
  {
   "cell_type": "code",
   "execution_count": 11,
   "id": "13f9a6ee",
   "metadata": {},
   "outputs": [
    {
     "name": "stdout",
     "output_type": "stream",
     "text": [
      "Positional Arguments:1\n",
      "Positional Arguments:2\n",
      "Positional Arguments:3\n",
      "Positional Arguments:4\n",
      "Positional Arguments:xitij\n",
      "Positional Arguments:3.14\n"
     ]
    }
   ],
   "source": [
    "def print_details(*args,**kwargs):\n",
    "    for val in args:\n",
    "        print(f\"Positional Arguments:{val}\")\n",
    "\n",
    "    for key,value in kwargs.items():\n",
    "        print(f\"{key}:{value}\")\n",
    "\n",
    "## Calling positional arguments\n",
    "print_details(1,2,3,4,\"xitij\",3.14)"
   ]
  },
  {
   "cell_type": "code",
   "execution_count": 13,
   "id": "56049b4c",
   "metadata": {},
   "outputs": [
    {
     "name": "stdout",
     "output_type": "stream",
     "text": [
      "name:Xitij\n",
      "age:20\n",
      "country:India\n"
     ]
    }
   ],
   "source": [
    "## Calling keyword arguments.\n",
    "print_details(name=\"Xitij\",age=\"20\",country=\"India\")"
   ]
  },
  {
   "cell_type": "code",
   "execution_count": 3,
   "id": "146196cf",
   "metadata": {},
   "outputs": [
    {
     "name": "stdout",
     "output_type": "stream",
     "text": [
      "31\n"
     ]
    }
   ],
   "source": [
    "num1 = int(input(\"Enter the First Number:\"))\n",
    "num2 = int(input(\"Enter the second number:\"))\n",
    "\n",
    "def add_Two_num(a,b):\n",
    "    return a+b\n",
    "\n",
    "result = add_Two_num(num1,num2)\n",
    "print(result)"
   ]
  },
  {
   "cell_type": "code",
   "execution_count": 5,
   "id": "eec4c8a5",
   "metadata": {},
   "outputs": [
    {
     "name": "stdout",
     "output_type": "stream",
     "text": [
      "16\n"
     ]
    }
   ],
   "source": [
    "num = int(input(\"Enter the number:\"))\n",
    "\n",
    "def square_num(a):\n",
    "    return a**2\n",
    "\n",
    "result = square_num(num)\n",
    "print(result)"
   ]
  },
  {
   "cell_type": "code",
   "execution_count": 6,
   "id": "d7deccf7",
   "metadata": {},
   "outputs": [
    {
     "name": "stdout",
     "output_type": "stream",
     "text": [
      "Heloo xitij, Welcomes to the Show.\n"
     ]
    }
   ],
   "source": [
    "name = input(\"Enter you fav name :\")\n",
    "\n",
    "def greet(n):\n",
    "    print(f\"Heloo {n}, Welcomes to the Show.\")\n",
    "\n",
    "greet(name)"
   ]
  },
  {
   "cell_type": "code",
   "execution_count": 9,
   "id": "c508b560",
   "metadata": {},
   "outputs": [
    {
     "name": "stdout",
     "output_type": "stream",
     "text": [
      "120\n"
     ]
    }
   ],
   "source": [
    "num = int(input(\"Enter the number :\"))\n",
    "\n",
    "def factorial(n):\n",
    "    if n< 0:\n",
    "        return \"Factorial not defined for negative numbers\"\n",
    "    result = 1\n",
    "    for i in range(1,n+1):\n",
    "        result *=i\n",
    "    return result\n",
    "\n",
    "print(factorial(num))"
   ]
  },
  {
   "cell_type": "code",
   "execution_count": 11,
   "id": "f64cf2c6",
   "metadata": {},
   "outputs": [
    {
     "name": "stdout",
     "output_type": "stream",
     "text": [
      "2 is even.\n"
     ]
    }
   ],
   "source": [
    "num = int(input(\"Enter the number:\"))\n",
    "\n",
    "def even_or_odd(n):\n",
    "    if n%2==0:\n",
    "        print(f\"{num} is even.\")\n",
    "    else:\n",
    "        print(f\"{num} is odd.\")\n",
    "\n",
    "result = even_or_odd(num)\n"
   ]
  },
  {
   "cell_type": "code",
   "execution_count": 16,
   "id": "062b3af8",
   "metadata": {},
   "outputs": [
    {
     "name": "stdout",
     "output_type": "stream",
     "text": [
      "5*1=5\n",
      "5*2=10\n",
      "5*3=15\n",
      "5*4=20\n",
      "5*5=25\n",
      "5*6=30\n",
      "5*7=35\n",
      "5*8=40\n",
      "5*9=45\n",
      "5*10=50\n"
     ]
    }
   ],
   "source": [
    "num = int(input(\"Enter the number you want to multiply:\"))\n",
    "\n",
    "def mul_table(num):\n",
    "    for i in range(1,11):\n",
    "        print(f\"{num}*{i}={num*i}\")\n",
    "\n",
    "mul_table(num)"
   ]
  },
  {
   "cell_type": "code",
   "execution_count": 20,
   "id": "ca5e4ec0",
   "metadata": {},
   "outputs": [
    {
     "name": "stdout",
     "output_type": "stream",
     "text": [
      "7\n"
     ]
    }
   ],
   "source": [
    "num1 = int(input(\"Enter the First Number:\"))\n",
    "num2 = int(input(\"Enter the Second Number:\"))\n",
    "num3 = int(input(\"Enter the Third Number:\"))\n",
    "\n",
    "def max_of_three(a,b,c):\n",
    "    if a>=b and a>=c:\n",
    "        return a\n",
    "    elif b>=a and b>=c:\n",
    "        return b\n",
    "    else:\n",
    "        return c\n",
    "\n",
    "print(max_of_three(num1,num2,num3))\n"
   ]
  },
  {
   "cell_type": "code",
   "execution_count": 1,
   "id": "2cc6e273",
   "metadata": {},
   "outputs": [
    {
     "data": {
      "text/plain": [
       "0.6666666666666666"
      ]
     },
     "execution_count": 1,
     "metadata": {},
     "output_type": "execute_result"
    }
   ],
   "source": [
    "num1 = int(input(\"Enter the numbe:\"))\n",
    "num2 = int(input(\"ENter the the number:\"))\n",
    "\n",
    "def two_div(a,b):\n",
    "    if b==0:\n",
    "        return \"Error : Cannot divide by zero\"\n",
    "    return a/b\n",
    "\n",
    "two_div(num1,num2)\n",
    "\n"
   ]
  },
  {
   "cell_type": "code",
   "execution_count": 3,
   "id": "9d3ffd15",
   "metadata": {},
   "outputs": [
    {
     "name": "stdout",
     "output_type": "stream",
     "text": [
      "Kshitij\n",
      "21\n"
     ]
    }
   ],
   "source": [
    "name = input(\"Enter the name :\")\n",
    "age = int(input(\"Enter the age :\"))\n",
    "\n",
    "def con_info(*args):\n",
    "    for val in args:\n",
    "        print(f\"{val}\")\n",
    "\n",
    "con_info(name,age)"
   ]
  },
  {
   "cell_type": "code",
   "execution_count": 4,
   "id": "8bc3bf21",
   "metadata": {},
   "outputs": [
    {
     "name": "stdout",
     "output_type": "stream",
     "text": [
      "xitij\n",
      "AI\n",
      "80.0\n"
     ]
    }
   ],
   "source": [
    "std_name = input(\"Enter the name:\")\n",
    "sub = input(\"Enter the subject:\")\n",
    "sub_mrk = float(input(\"Enter percentage of subject:\"))\n",
    "\n",
    "def std_info(*args):\n",
    "    for val in args:\n",
    "        print(f\"{val}\")\n",
    "\n",
    "std_info(std_name,sub,sub_mrk)"
   ]
  },
  {
   "cell_type": "code",
   "execution_count": null,
   "id": "48ad5636",
   "metadata": {},
   "outputs": [
    {
     "data": {
      "text/plain": [
       "9.0"
      ]
     },
     "execution_count": 6,
     "metadata": {},
     "output_type": "execute_result"
    }
   ],
   "source": [
    "width = float(input(\"Enter the width of rectangle:\"))\n",
    "height = float(input(\"Enter the Height of rectangle:\"))\n",
    "\n",
    "def area_rec(*args):\n",
    "    for val in args:\n",
    "        wid = val\n",
    "    rec = wid*val\n",
    "    return rec\n",
    "\n",
    "\n",
    "area_rec(width,height)"
   ]
  },
  {
   "cell_type": "code",
   "execution_count": 1,
   "id": "8f4f0bc6",
   "metadata": {},
   "outputs": [
    {
     "name": "stdout",
     "output_type": "stream",
     "text": [
      "77.0\n",
      "25.0\n"
     ]
    }
   ],
   "source": [
    "## Functions Example\n",
    "\n",
    "def temprature_converter(temp,unit):\n",
    "    if unit== \"C\":\n",
    "        return temp * 9/5 + 32  # cetcius to fehrenheit\n",
    "    elif unit ==\"F\":\n",
    "        return (temp-32)*5/9\n",
    "    else:\n",
    "        return None\n",
    "    \n",
    "print(temprature_converter(25,'C'))\n",
    "print(temprature_converter(77,'F'))\n",
    "\n",
    "\n"
   ]
  },
  {
   "cell_type": "code",
   "execution_count": 2,
   "id": "5101c520",
   "metadata": {},
   "outputs": [
    {
     "name": "stdout",
     "output_type": "stream",
     "text": [
      "False\n",
      "True\n"
     ]
    }
   ],
   "source": [
    "## Password Strength Checker\n",
    "\n",
    "def is_strong_password(password):\n",
    "    \"\"\"Thise function checks if the password is strong or not\"\"\"\n",
    "    if len(password)<8:\n",
    "        return False\n",
    "    if not any(char.isdigit() for char in password):\n",
    "        return False\n",
    "    if not any(char.islower() for char in password):\n",
    "        return False\n",
    "    if not any(char.isupper() for char in password):\n",
    "        return False\n",
    "    if not any(char in '@#$%^&*()_+' for char in password):\n",
    "        return False\n",
    "    return True\n",
    "\n",
    "## calling the function\n",
    "\n",
    "print(is_strong_password(\"Weakpwd\"))\n",
    "print(is_strong_password(\"Kshitij03@#\"))"
   ]
  },
  {
   "cell_type": "code",
   "execution_count": 4,
   "id": "4cac766d",
   "metadata": {},
   "outputs": [
    {
     "name": "stdout",
     "output_type": "stream",
     "text": [
      "5.8999999999999995\n"
     ]
    }
   ],
   "source": [
    "## Calculate the total Cost of items in a Shopping Cart\n",
    "def calculate_totla_cost(cart):\n",
    "    total_cost =0\n",
    "    for item in cart:\n",
    "        total_cost +=item['price'] * item['quantity']\n",
    "    \n",
    "    return total_cost\n",
    "\n",
    "## example cart data\n",
    "\n",
    "cart = [\n",
    "    {'name':'Apple','price':0.5,'quantity':4},\n",
    "    {'name':'banana','price':0.3,'quantity':6},\n",
    "    {'name':'Orange','price':0.7,'quantity':3}\n",
    "]\n",
    "\n",
    "total_cost = calculate_totla_cost(cart)\n",
    "print(total_cost)"
   ]
  },
  {
   "cell_type": "code",
   "execution_count": 6,
   "id": "23e6c3cb",
   "metadata": {},
   "outputs": [
    {
     "name": "stdout",
     "output_type": "stream",
     "text": [
      "False\n",
      "True\n"
     ]
    }
   ],
   "source": [
    "## Check IF a String is Palindrom\n",
    "# string = input(\"Enter the string :\")\n",
    "\n",
    "def is_palindrom(s):\n",
    "    s=s.lower().replace(\" \", \"\")\n",
    "    return s==s[::-1]\n",
    "\n",
    "print(is_palindrom(\"Hello\"))\n",
    "print(is_palindrom(\"A man a plan a canal panama\"))\n"
   ]
  },
  {
   "cell_type": "code",
   "execution_count": 9,
   "id": "09b648c3",
   "metadata": {},
   "outputs": [
    {
     "name": "stdout",
     "output_type": "stream",
     "text": [
      "120\n"
     ]
    }
   ],
   "source": [
    "## Calculate the factorial of a number using recursion\n",
    "\n",
    "def factorial(n):\n",
    "    if n==0:\n",
    "        return 1\n",
    "    else:\n",
    "        return n * factorial(n - 1)\n",
    "    \n",
    "print(factorial(5))\n"
   ]
  },
  {
   "cell_type": "code",
   "execution_count": 10,
   "id": "a4966580",
   "metadata": {},
   "outputs": [
    {
     "name": "stdout",
     "output_type": "stream",
     "text": [
      "{'hellow': 1, '': 1, 'my': 1, 'name': 1, 'is': 1, 'kshitij': 1, 'i': 1, 'loved': 1, 'the': 1, 'once': 1}\n"
     ]
    }
   ],
   "source": [
    "## A function to read a file and count the frequency of each word\n",
    "def count_word_frequency(file_path):\n",
    "    word_count = {}\n",
    "    with open(file_path,'r') as file:\n",
    "        for line in file:\n",
    "            words = line.split()\n",
    "            for word in words:\n",
    "                word  =word.lower().strip('.,!?;:\"\\'')\n",
    "                word_count[word] = word_count.get(word,0)+1\n",
    "\n",
    "    return word_count\n",
    "\n",
    "filepath = 'sample.txt'\n",
    "word_frequency = count_word_frequency(filepath)\n",
    "print(word_frequency)\n"
   ]
  },
  {
   "cell_type": "code",
   "execution_count": 2,
   "id": "f5719e28",
   "metadata": {},
   "outputs": [
    {
     "name": "stdout",
     "output_type": "stream",
     "text": [
      "4\n"
     ]
    }
   ],
   "source": [
    "num = int(input(\"Enter the number :\"))\n",
    "\n",
    "def square(num):\n",
    "    return num **2\n",
    "\n",
    "print(square(num))"
   ]
  },
  {
   "cell_type": "code",
   "execution_count": 3,
   "id": "3451d71c",
   "metadata": {},
   "outputs": [
    {
     "name": "stdout",
     "output_type": "stream",
     "text": [
      "10\n"
     ]
    }
   ],
   "source": [
    "def count_vowels(text):\n",
    "    vowels  = \"aeiouAEIOU\"\n",
    "    count = 0\n",
    "    for char in vowels:\n",
    "        if char in vowels:\n",
    "            count += 1\n",
    "    return count\n",
    "\n",
    "print(count_vowels(\"Hellow WOrld\"))\n"
   ]
  },
  {
   "cell_type": "code",
   "execution_count": 1,
   "id": "51f3921d",
   "metadata": {},
   "outputs": [
    {
     "name": "stdout",
     "output_type": "stream",
     "text": [
      "4.5\n"
     ]
    }
   ],
   "source": [
    "lst = [1,2,3,4,5,6,7,8]\n",
    "\n",
    "def avg_num(num):\n",
    "    if not num:\n",
    "        return 0\n",
    "    return sum(num)/len(num)\n",
    "\n",
    "print(avg_num(lst))"
   ]
  },
  {
   "cell_type": "code",
   "execution_count": null,
   "id": "7c896a13",
   "metadata": {},
   "outputs": [],
   "source": []
  }
 ],
 "metadata": {
  "kernelspec": {
   "display_name": "Python 3",
   "language": "python",
   "name": "python3"
  },
  "language_info": {
   "codemirror_mode": {
    "name": "ipython",
    "version": 3
   },
   "file_extension": ".py",
   "mimetype": "text/x-python",
   "name": "python",
   "nbconvert_exporter": "python",
   "pygments_lexer": "ipython3",
   "version": "3.12.11"
  }
 },
 "nbformat": 4,
 "nbformat_minor": 5
}
