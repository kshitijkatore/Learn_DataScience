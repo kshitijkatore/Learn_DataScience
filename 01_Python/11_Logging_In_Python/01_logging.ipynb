{
 "cells": [
  {
   "cell_type": "code",
   "execution_count": 1,
   "id": "4d929c91",
   "metadata": {},
   "outputs": [
    {
     "name": "stderr",
     "output_type": "stream",
     "text": [
      "DEBUG:root:Thise is a debug message\n",
      "INFO:root:This is an info message\n",
      "WARNING:root:This is a warning meassae\n",
      "ERROR:root:This is an error message\n",
      "CRITICAL:root:Thise is a critical message\n"
     ]
    }
   ],
   "source": [
    "import logging\n",
    "# Configure the basaic logging setting\n",
    "\n",
    "logging.basicConfig(level=logging.DEBUG)\n",
    "\n",
    "# log message\n",
    "\n",
    "logging.debug(\"Thise is a debug message\")\n",
    "logging.info(\"This is an info message\")\n",
    "logging.warning(\"This is a warning meassae\")\n",
    "logging.error(\"This is an error message\")\n",
    "logging.critical(\"Thise is a critical message\")\n"
   ]
  },
  {
   "cell_type": "code",
   "execution_count": 2,
   "id": "1951ac9d",
   "metadata": {},
   "outputs": [],
   "source": [
    "## Configure logging\n",
    "import logging\n",
    "logging.basicConfig(\n",
    "    filename = 'app.log',\n",
    "    filemode='w',\n",
    "    level=logging.DEBUG,\n",
    "    format= '%(asctime)s-%(name)s-%(levelname)s-%(message)s',\n",
    "    datefmt='%Y-%m-%d %H:%M:%S'\n",
    ")\n",
    "\n",
    "logging.debug(\"Thise is a debug message\")\n",
    "logging.info(\"This is an info message\")\n",
    "logging.warning(\"This is a warning meassae\")\n",
    "logging.error(\"This is an error message\")\n",
    "logging.critical(\"Thise is a critical message\")"
   ]
  },
  {
   "cell_type": "code",
   "execution_count": null,
   "id": "fb047dda",
   "metadata": {},
   "outputs": [],
   "source": []
  }
 ],
 "metadata": {
  "kernelspec": {
   "display_name": "Python 3",
   "language": "python",
   "name": "python3"
  },
  "language_info": {
   "codemirror_mode": {
    "name": "ipython",
    "version": 3
   },
   "file_extension": ".py",
   "mimetype": "text/x-python",
   "name": "python",
   "nbconvert_exporter": "python",
   "pygments_lexer": "ipython3",
   "version": "3.10.0"
  }
 },
 "nbformat": 4,
 "nbformat_minor": 5
}
