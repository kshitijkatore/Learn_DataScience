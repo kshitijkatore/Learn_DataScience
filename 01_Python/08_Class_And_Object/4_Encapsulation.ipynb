{
 "cells": [
  {
   "cell_type": "code",
   "execution_count": 2,
   "id": "a44f652a",
   "metadata": {},
   "outputs": [
    {
     "name": "stdout",
     "output_type": "stream",
     "text": [
      "Xitij\n",
      "20\n"
     ]
    },
    {
     "data": {
      "text/plain": [
       "'Xitij'"
      ]
     },
     "execution_count": 2,
     "metadata": {},
     "output_type": "execute_result"
    }
   ],
   "source": [
    "## Encapsulation with Getter and setter Method\n",
    "# Public,protected,private variable or access modifiers\n",
    "class Person:\n",
    "    def __init__(self,name,age):\n",
    "        self.name = name  ## public variable\n",
    "        self.age = age  ## public variable\n",
    "\n",
    "person = Person(\"Xitij\",20)\n",
    "\n",
    "def get_person(person):\n",
    "    return person.name\n",
    "\n",
    "print(person.name)\n",
    "print(person.age)\n",
    "get_person(person)"
   ]
  },
  {
   "cell_type": "code",
   "execution_count": null,
   "id": "dc33ead8",
   "metadata": {},
   "outputs": [],
   "source": [
    "## Private\n",
    "class Person:\n",
    "    def __init__(self,name,age):\n",
    "        self.__name = name  ## private variable\n",
    "        self.__age = age    ## private variable\n",
    "\n",
    "person = Person(\"Xitij\",20)\n",
    "\n",
    "def get_name(person):\n",
    "    return person.__name  # private variable\n",
    "## Private variable not access outside the class."
   ]
  },
  {
   "cell_type": "code",
   "execution_count": null,
   "id": "144e81a3",
   "metadata": {},
   "outputs": [
    {
     "name": "stdout",
     "output_type": "stream",
     "text": [
      "xitij\n"
     ]
    },
    {
     "data": {
      "text/plain": [
       "'xitij'"
      ]
     },
     "execution_count": 2,
     "metadata": {},
     "output_type": "execute_result"
    }
   ],
   "source": [
    "## Protected variable\n",
    "class Person:\n",
    "    def __init__(self,name,age,gender):\n",
    "        self._name = name   ## Protected variables\n",
    "        self._age = name    ## Protected variabel\n",
    "        self.gender = gender\n",
    "\n",
    "## Protected variable not access outside the class but accsess from derived class.abs\n",
    "\n",
    "## Derived class\n",
    "class Employee(Person):\n",
    "    def __init__(self,name,age,gender):\n",
    "        super().__init__(name,age,gender)\n",
    "\n",
    "def get_name(employee):\n",
    "    return employee._name\n",
    "\n",
    "employee = Employee(\"xitij\",34,\"Male\")\n",
    "print(employee._name)\n",
    "get_name(employee)"
   ]
  },
  {
   "cell_type": "code",
   "execution_count": null,
   "id": "0fd5208c",
   "metadata": {},
   "outputs": [
    {
     "name": "stdout",
     "output_type": "stream",
     "text": [
      "Xitij\n",
      "20\n",
      "21\n",
      "Kshitij\n"
     ]
    }
   ],
   "source": [
    "## Encapsulation with Getter ANd Setter\n",
    "\n",
    "class Person:\n",
    "    def __init__(self,name,age):\n",
    "        self.__name = name  ## Private access mdifier or variable\n",
    "        self.__age = age   \n",
    "\n",
    "    ## getter method for name\n",
    "    def get_name(self):\n",
    "        return self.__name\n",
    "\n",
    "    ## Setter method for name\n",
    "    def set_name(self,name):\n",
    "        self.__name =name\n",
    "\n",
    "    ## Getter method for age\n",
    "    def get_age(self):\n",
    "        return self.__age\n",
    "\n",
    "    ## Setter method for age\n",
    "    def set_age(self,age):\n",
    "        if age > 0:\n",
    "            self.__age = age\n",
    "        else:\n",
    "            print(\"Age acan not be negative\")\n",
    "\n",
    "person = Person(\"Xitij\",20)\n",
    "## Access and modify private variable using getter and setter\n",
    "\n",
    "print(person.get_name())\n",
    "print(person.get_age())\n",
    "\n",
    "person.set_age(21)\n",
    "print(person.get_age())\n",
    "\n",
    "person.set_name(\"Kshitij\")\n",
    "print(person.get_name())"
   ]
  },
  {
   "cell_type": "code",
   "execution_count": null,
   "id": "cc20ba18",
   "metadata": {},
   "outputs": [],
   "source": []
  }
 ],
 "metadata": {
  "kernelspec": {
   "display_name": "Python 3",
   "language": "python",
   "name": "python3"
  },
  "language_info": {
   "codemirror_mode": {
    "name": "ipython",
    "version": 3
   },
   "file_extension": ".py",
   "mimetype": "text/x-python",
   "name": "python",
   "nbconvert_exporter": "python",
   "pygments_lexer": "ipython3",
   "version": "3.10.0"
  }
 },
 "nbformat": 4,
 "nbformat_minor": 5
}
