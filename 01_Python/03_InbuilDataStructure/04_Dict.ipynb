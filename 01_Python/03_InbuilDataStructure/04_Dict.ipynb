{
 "cells": [
  {
   "cell_type": "code",
   "execution_count": 1,
   "id": "855e6543",
   "metadata": {},
   "outputs": [
    {
     "name": "stdout",
     "output_type": "stream",
     "text": [
      "<class 'dict'>\n"
     ]
    }
   ],
   "source": [
    "## Creating Dictionaries\n",
    "\n",
    "emty_dict = {}\n",
    "print(type(emty_dict))"
   ]
  },
  {
   "cell_type": "code",
   "execution_count": 2,
   "id": "784e3740",
   "metadata": {},
   "outputs": [
    {
     "name": "stdout",
     "output_type": "stream",
     "text": [
      "{'name': 'Xitij', 'age': 20, 'grade': 7.23}\n"
     ]
    }
   ],
   "source": [
    "student = {\"name\":\"Xitij\",\"age\":20,\"grade\":7.23}\n",
    "print(student)"
   ]
  },
  {
   "cell_type": "code",
   "execution_count": 4,
   "id": "0f8639bb",
   "metadata": {},
   "outputs": [
    {
     "name": "stdout",
     "output_type": "stream",
     "text": [
      "{'name': 'katore', 'age': 20}\n"
     ]
    }
   ],
   "source": [
    "student ={\"name\":\"Xitij\",\"age\":20,\"name\":\"katore\"}  ## only used single key , replace with recent value\n",
    "print(student)"
   ]
  },
  {
   "cell_type": "code",
   "execution_count": 11,
   "id": "4292d0c4",
   "metadata": {},
   "outputs": [
    {
     "name": "stdout",
     "output_type": "stream",
     "text": [
      "{'name': 'Xitij', 'age': 20, 'grade': 7.23}\n",
      "7.23\n",
      "20\n",
      "Xitij\n",
      "Xitij\n",
      "None\n",
      "Not Available\n"
     ]
    }
   ],
   "source": [
    "## Acccessing Dictionary Elements\n",
    "\n",
    "student = {\"name\":\"Xitij\",\"age\":20,\"grade\":7.23}\n",
    "print(student)\n",
    "\n",
    "print(student['grade'])\n",
    "print(student[\"age\"])\n",
    "print(student['name'])\n",
    "\n",
    "\n",
    "## Accesing using get() method\n",
    "\n",
    "print(student.get(\"name\")) ## using method\n",
    "print(student.get(\"last_name\"))\n",
    "print(student.get(\"last_name\",\"Not Available\"))"
   ]
  },
  {
   "cell_type": "code",
   "execution_count": 12,
   "id": "5fa2f1e5",
   "metadata": {},
   "outputs": [
    {
     "name": "stdout",
     "output_type": "stream",
     "text": [
      "{'name': 'Xitij', 'age': 20, 'grade': 7.23}\n"
     ]
    }
   ],
   "source": [
    "## Modifying Dictionary Elements\n",
    "print(student)"
   ]
  },
  {
   "cell_type": "code",
   "execution_count": 16,
   "id": "fafae85b",
   "metadata": {},
   "outputs": [
    {
     "name": "stdout",
     "output_type": "stream",
     "text": [
      "{'name': 'Xitij', 'age': 21, 'address': 'India'}\n",
      "{'name': 'Xitij', 'age': 21, 'address': 'India'}\n",
      "{'name': 'Xitij', 'address': 'India'}\n"
     ]
    }
   ],
   "source": [
    "student['age']=21\n",
    "print(student)\n",
    "student['address'] = \"India\"  ## Added a new key and vlaue\n",
    "print(student)\n",
    "\n",
    "del student[\"age\"] ## Delete the key and value pair\n",
    "print(student)"
   ]
  },
  {
   "cell_type": "code",
   "execution_count": 18,
   "id": "9e4a095d",
   "metadata": {},
   "outputs": [
    {
     "name": "stdout",
     "output_type": "stream",
     "text": [
      "dict_keys(['name', 'address'])\n",
      "dict_values(['Xitij', 'India'])\n",
      "dict_items([('name', 'Xitij'), ('address', 'India')])\n"
     ]
    }
   ],
   "source": [
    "## Dictionary method\n",
    "\n",
    "keys = student.keys()\n",
    "print(keys)\n",
    "values = student.values()\n",
    "print(values)\n",
    "\n",
    "items = student.items()\n",
    "print(items)"
   ]
  },
  {
   "cell_type": "code",
   "execution_count": 19,
   "id": "3a770ba5",
   "metadata": {},
   "outputs": [
    {
     "name": "stdout",
     "output_type": "stream",
     "text": [
      "{'name': 'Xitij', 'address': 'India'}\n",
      "{'name': 'Xitij', 'address': 'India'}\n"
     ]
    }
   ],
   "source": [
    "student_copy = student\n",
    "print(student)\n",
    "print(student_copy)"
   ]
  },
  {
   "cell_type": "code",
   "execution_count": 20,
   "id": "09532a2f",
   "metadata": {},
   "outputs": [
    {
     "name": "stdout",
     "output_type": "stream",
     "text": [
      "{'name': 'Kshitij', 'address': 'India'}\n",
      "{'name': 'Kshitij', 'address': 'India'}\n"
     ]
    }
   ],
   "source": [
    "student[\"name\"] = \"Kshitij\"\n",
    "print(student)\n",
    "print(student_copy)"
   ]
  },
  {
   "cell_type": "code",
   "execution_count": 21,
   "id": "44c15746",
   "metadata": {},
   "outputs": [
    {
     "name": "stdout",
     "output_type": "stream",
     "text": [
      "{'name': 'Kshitij', 'address': 'India'}\n",
      "{'name': 'Kshitij', 'address': 'India'}\n"
     ]
    }
   ],
   "source": [
    "## Shallow copy\n",
    "\n",
    "student_copy1 = student.copy()\n",
    "print(student)\n",
    "print(student_copy1)"
   ]
  },
  {
   "cell_type": "code",
   "execution_count": 22,
   "id": "44db41af",
   "metadata": {},
   "outputs": [
    {
     "name": "stdout",
     "output_type": "stream",
     "text": [
      "{'name': 'katore', 'address': 'India'}\n",
      "{'name': 'Kshitij', 'address': 'India'}\n"
     ]
    }
   ],
   "source": [
    "student[\"name\"] = \"katore\"\n",
    "print(student)\n",
    "print(student_copy1)"
   ]
  },
  {
   "cell_type": "code",
   "execution_count": 24,
   "id": "4b2ee2bc",
   "metadata": {},
   "outputs": [
    {
     "name": "stdout",
     "output_type": "stream",
     "text": [
      "name\n",
      "address\n"
     ]
    }
   ],
   "source": [
    "## Iterating over dictionaries\n",
    "\n",
    "for keys in student.keys():\n",
    "    print(keys)\n",
    "\n"
   ]
  },
  {
   "cell_type": "code",
   "execution_count": 27,
   "id": "5bb249d7",
   "metadata": {},
   "outputs": [
    {
     "name": "stdout",
     "output_type": "stream",
     "text": [
      "katore\n",
      "India\n"
     ]
    }
   ],
   "source": [
    "for values in student.values():\n",
    "    print(values)\n",
    "\n"
   ]
  },
  {
   "cell_type": "code",
   "execution_count": 29,
   "id": "7a9db0ce",
   "metadata": {},
   "outputs": [
    {
     "name": "stdout",
     "output_type": "stream",
     "text": [
      "name:katore\n",
      "address:India\n"
     ]
    }
   ],
   "source": [
    "for keys,values in student.items():\n",
    "    print(f\"{keys}:{values}\")"
   ]
  },
  {
   "cell_type": "code",
   "execution_count": 30,
   "id": "c2f04b6d",
   "metadata": {},
   "outputs": [
    {
     "name": "stdout",
     "output_type": "stream",
     "text": [
      "{0: 0, 1: 1, 2: 4, 3: 9, 4: 16, 5: 25, 6: 36, 7: 49, 8: 64, 9: 81}\n"
     ]
    }
   ],
   "source": [
    "## Dictionary Comprehensions\n",
    "\n",
    "squares = {x:x**2 for x in range(10)}\n",
    "print(squares)"
   ]
  },
  {
   "cell_type": "code",
   "execution_count": 31,
   "id": "b80f36f7",
   "metadata": {},
   "outputs": [
    {
     "name": "stdout",
     "output_type": "stream",
     "text": [
      "{0: 0, 2: 4, 4: 16, 6: 36, 8: 64}\n"
     ]
    }
   ],
   "source": [
    "## Conditions dictionarry comprehensions\n",
    "\n",
    "evens = {x:x**2 for x in range(10) if x%2==0}\n",
    "print(evens)"
   ]
  },
  {
   "cell_type": "code",
   "execution_count": null,
   "id": "d6648050",
   "metadata": {},
   "outputs": [],
   "source": []
  }
 ],
 "metadata": {
  "kernelspec": {
   "display_name": "Python 3",
   "language": "python",
   "name": "python3"
  },
  "language_info": {
   "codemirror_mode": {
    "name": "ipython",
    "version": 3
   },
   "file_extension": ".py",
   "mimetype": "text/x-python",
   "name": "python",
   "nbconvert_exporter": "python",
   "pygments_lexer": "ipython3",
   "version": "3.10.0"
  }
 },
 "nbformat": 4,
 "nbformat_minor": 5
}
