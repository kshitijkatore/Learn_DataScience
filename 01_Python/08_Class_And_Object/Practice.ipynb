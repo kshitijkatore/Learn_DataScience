{
 "cells": [
  {
   "cell_type": "code",
   "execution_count": 13,
   "id": "f92cdee0",
   "metadata": {},
   "outputs": [
    {
     "name": "stdout",
     "output_type": "stream",
     "text": [
      "<bound method Car.brand_name of <__main__.Car object at 0x000001C0AFEBE320>>\n"
     ]
    }
   ],
   "source": [
    "## Section A - Classes & Objects\n",
    "\n",
    "class Car:\n",
    "    def __init__(self,brand,model,year):\n",
    "        self.brand = brand\n",
    "        self.model = model\n",
    "        self.year = year\n",
    "\n",
    "    def brand_name(self):\n",
    "        print(f\"Brand name is :{self.brand}\")\n",
    "\n",
    "    def model_name(self):\n",
    "        print(f\"Model is {self.model}\")\n",
    "\n",
    "    def passing_year(self):\n",
    "        print(f\"Passing year : {self.year}\")\n",
    "\n",
    "def car_doc(car):\n",
    "    print(car.brand_name)\n",
    "\n",
    "bmw = Car(\"BMW\", \"Electric\", 2024)\n",
    "car_doc(bmw)"
   ]
  },
  {
   "cell_type": "code",
   "execution_count": null,
   "id": "8ab52a33",
   "metadata": {},
   "outputs": [
    {
     "name": "stdout",
     "output_type": "stream",
     "text": [
      "12.56\n"
     ]
    }
   ],
   "source": [
    "class Circle:\n",
    "    def __init__(self,radius):\n",
    "        self.radius = radius\n",
    "\n",
    "    def area(self):\n",
    "        return 3.14 *self.radius * self.radius\n",
    "    \n",
    "    def circumference(self):\n",
    "        return 2 * 3.14 * self.radius\n",
    "    \n",
    "def print_circle(circle):\n",
    "    print(circle.area()) \n",
    "\n",
    "A = Circle(2)\n",
    "print_circle(A)\n"
   ]
  },
  {
   "cell_type": "code",
   "execution_count": null,
   "id": "fd6c82ea",
   "metadata": {},
   "outputs": [
    {
     "name": "stdout",
     "output_type": "stream",
     "text": [
      "xitij\n"
     ]
    }
   ],
   "source": [
    "class Employee:\n",
    "    def __init__(self,name,age,gender):\n",
    "        self.name = name\n",
    "        self.age = age\n",
    "        self.gender = gender\n",
    "\n",
    "    def emp_name(self):\n",
    "        print(f\"Employee name is :{self.name}\")\n",
    "\n",
    "    def emp_ege(self):\n",
    "        print(f\"Employee age is : {self.age}\")\n",
    "    def emp_gender(self):\n",
    "        print(f\"Employee gender is : {self.gender}\")\n",
    "\n",
    "\n",
    "def employee_detailes(emp):\n",
    "    print(emp.name)\n",
    "\n",
    "\n",
    "emp1 = Employee(\"xitij\", 21, \"Male\")\n",
    "employee_detailes(emp1)\n",
    "\n",
    "\n",
    "    "
   ]
  },
  {
   "cell_type": "code",
   "execution_count": 3,
   "id": "8164ca3d",
   "metadata": {},
   "outputs": [
    {
     "data": {
      "text/plain": [
       "'xitij & AD21046'"
      ]
     },
     "execution_count": 3,
     "metadata": {},
     "output_type": "execute_result"
    }
   ],
   "source": [
    "class Student():\n",
    "    def __init__(self,name,roll_number):\n",
    "        self.name = name\n",
    "        self.roll_number = roll_number\n",
    "\n",
    "    def stu_detail(self):\n",
    "        return f\"{self.name} & {self.roll_number}\"\n",
    "\n",
    "\n",
    "stu1 = Student(\"xitij\", \"AD21046\")\n",
    "stu1.stu_detail()"
   ]
  },
  {
   "cell_type": "code",
   "execution_count": null,
   "id": "3a2e093d",
   "metadata": {},
   "outputs": [],
   "source": []
  }
 ],
 "metadata": {
  "kernelspec": {
   "display_name": "Python 3",
   "language": "python",
   "name": "python3"
  },
  "language_info": {
   "codemirror_mode": {
    "name": "ipython",
    "version": 3
   },
   "file_extension": ".py",
   "mimetype": "text/x-python",
   "name": "python",
   "nbconvert_exporter": "python",
   "pygments_lexer": "ipython3",
   "version": "3.10.0"
  }
 },
 "nbformat": 4,
 "nbformat_minor": 5
}
