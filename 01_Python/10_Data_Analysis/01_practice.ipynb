{
 "cells": [
  {
   "cell_type": "code",
   "execution_count": 4,
   "id": "38b99489",
   "metadata": {},
   "outputs": [
    {
     "data": {
      "text/html": [
       "<div>\n",
       "<style scoped>\n",
       "    .dataframe tbody tr th:only-of-type {\n",
       "        vertical-align: middle;\n",
       "    }\n",
       "\n",
       "    .dataframe tbody tr th {\n",
       "        vertical-align: top;\n",
       "    }\n",
       "\n",
       "    .dataframe thead th {\n",
       "        text-align: right;\n",
       "    }\n",
       "</style>\n",
       "<table border=\"1\" class=\"dataframe\">\n",
       "  <thead>\n",
       "    <tr style=\"text-align: right;\">\n",
       "      <th></th>\n",
       "      <th>Subject_1</th>\n",
       "      <th>Subject_2</th>\n",
       "      <th>Subject_3</th>\n",
       "      <th>Subject_4</th>\n",
       "      <th>Subject_5</th>\n",
       "    </tr>\n",
       "  </thead>\n",
       "  <tbody>\n",
       "    <tr>\n",
       "      <th>0</th>\n",
       "      <td>58.76</td>\n",
       "      <td>72.56</td>\n",
       "      <td>48.30</td>\n",
       "      <td>81.17</td>\n",
       "      <td>61.03</td>\n",
       "    </tr>\n",
       "    <tr>\n",
       "      <th>1</th>\n",
       "      <td>77.95</td>\n",
       "      <td>40.38</td>\n",
       "      <td>62.49</td>\n",
       "      <td>93.76</td>\n",
       "      <td>84.19</td>\n",
       "    </tr>\n",
       "    <tr>\n",
       "      <th>2</th>\n",
       "      <td>65.07</td>\n",
       "      <td>42.89</td>\n",
       "      <td>64.12</td>\n",
       "      <td>91.05</td>\n",
       "      <td>44.74</td>\n",
       "    </tr>\n",
       "    <tr>\n",
       "      <th>3</th>\n",
       "      <td>79.26</td>\n",
       "      <td>85.54</td>\n",
       "      <td>85.68</td>\n",
       "      <td>77.20</td>\n",
       "      <td>95.60</td>\n",
       "    </tr>\n",
       "    <tr>\n",
       "      <th>4</th>\n",
       "      <td>53.39</td>\n",
       "      <td>58.72</td>\n",
       "      <td>95.67</td>\n",
       "      <td>50.71</td>\n",
       "      <td>81.21</td>\n",
       "    </tr>\n",
       "    <tr>\n",
       "      <th>5</th>\n",
       "      <td>55.92</td>\n",
       "      <td>91.67</td>\n",
       "      <td>67.73</td>\n",
       "      <td>80.45</td>\n",
       "      <td>50.41</td>\n",
       "    </tr>\n",
       "    <tr>\n",
       "      <th>6</th>\n",
       "      <td>68.47</td>\n",
       "      <td>67.26</td>\n",
       "      <td>73.76</td>\n",
       "      <td>92.02</td>\n",
       "      <td>51.82</td>\n",
       "    </tr>\n",
       "    <tr>\n",
       "      <th>7</th>\n",
       "      <td>51.90</td>\n",
       "      <td>91.53</td>\n",
       "      <td>91.53</td>\n",
       "      <td>57.77</td>\n",
       "      <td>91.15</td>\n",
       "    </tr>\n",
       "    <tr>\n",
       "      <th>8</th>\n",
       "      <td>43.23</td>\n",
       "      <td>99.61</td>\n",
       "      <td>48.09</td>\n",
       "      <td>67.32</td>\n",
       "      <td>89.14</td>\n",
       "    </tr>\n",
       "    <tr>\n",
       "      <th>9</th>\n",
       "      <td>98.53</td>\n",
       "      <td>70.11</td>\n",
       "      <td>77.38</td>\n",
       "      <td>93.85</td>\n",
       "      <td>42.44</td>\n",
       "    </tr>\n",
       "  </tbody>\n",
       "</table>\n",
       "</div>"
      ],
      "text/plain": [
       "   Subject_1  Subject_2  Subject_3  Subject_4  Subject_5\n",
       "0      58.76      72.56      48.30      81.17      61.03\n",
       "1      77.95      40.38      62.49      93.76      84.19\n",
       "2      65.07      42.89      64.12      91.05      44.74\n",
       "3      79.26      85.54      85.68      77.20      95.60\n",
       "4      53.39      58.72      95.67      50.71      81.21\n",
       "5      55.92      91.67      67.73      80.45      50.41\n",
       "6      68.47      67.26      73.76      92.02      51.82\n",
       "7      51.90      91.53      91.53      57.77      91.15\n",
       "8      43.23      99.61      48.09      67.32      89.14\n",
       "9      98.53      70.11      77.38      93.85      42.44"
      ]
     },
     "execution_count": 4,
     "metadata": {},
     "output_type": "execute_result"
    }
   ],
   "source": [
    "import numpy as np\n",
    "import pandas as pd\n",
    "\n",
    "df =pd.read_csv('student_scores.csv')\n",
    "df\n"
   ]
  },
  {
   "cell_type": "code",
   "execution_count": 9,
   "id": "d25c84b9",
   "metadata": {},
   "outputs": [
    {
     "name": "stdout",
     "output_type": "stream",
     "text": [
      "[[ 0.    0.    0.    0.    0.  ]\n",
      " [58.76 72.56 48.3  81.17 61.03]\n",
      " [77.95 40.38 62.49 93.76 84.19]\n",
      " [65.07 42.89 64.12 91.05 44.74]\n",
      " [79.26 85.54 85.68 77.2  95.6 ]\n",
      " [53.39 58.72 95.67 50.71 81.21]\n",
      " [55.92 91.67 67.73 80.45 50.41]\n",
      " [68.47 67.26 73.76 92.02 51.82]\n",
      " [51.9  91.53 91.53 57.77 91.15]\n",
      " [43.23 99.61 48.09 67.32 89.14]\n",
      " [98.53 70.11 77.38 93.85 42.44]]\n"
     ]
    }
   ],
   "source": [
    "data_array = np.genfromtxt('student_scores.csv',delimiter=',',filling_values=0)\n",
    "print(data_array)"
   ]
  },
  {
   "cell_type": "code",
   "execution_count": 15,
   "id": "12335e69",
   "metadata": {},
   "outputs": [
    {
     "name": "stdout",
     "output_type": "stream",
     "text": [
      "[[77.95 40.38 62.49 93.76 84.19]\n",
      " [65.07 42.89 64.12 91.05 44.74]\n",
      " [79.26 85.54 85.68 77.2  95.6 ]\n",
      " [53.39 58.72 95.67 50.71 81.21]\n",
      " [55.92 91.67 67.73 80.45 50.41]\n",
      " [68.47 67.26 73.76 92.02 51.82]\n",
      " [51.9  91.53 91.53 57.77 91.15]\n",
      " [43.23 99.61 48.09 67.32 89.14]\n",
      " [98.53 70.11 77.38 93.85 42.44]]\n"
     ]
    }
   ],
   "source": [
    "df = pd.read_csv('student_scores.csv', delimiter=',', skiprows=1)\n",
    "# print(df)\n",
    "data = df.values\n",
    "print(data)"
   ]
  },
  {
   "cell_type": "code",
   "execution_count": 16,
   "id": "f710cf72",
   "metadata": {},
   "outputs": [
    {
     "name": "stdout",
     "output_type": "stream",
     "text": [
      "Totla marks for each student\n",
      "[358.77 307.87 423.28 339.7  346.18 353.33 383.88 347.39 382.31]\n"
     ]
    }
   ],
   "source": [
    "# sum along axis=1 to get row wise totla\n",
    "\n",
    "total_marks = np.sum(data, axis=1)\n",
    "\n",
    "print(\"Totla marks for each student\")\n",
    "print(total_marks)"
   ]
  },
  {
   "cell_type": "code",
   "execution_count": 17,
   "id": "4c2f98da",
   "metadata": {},
   "outputs": [
    {
     "name": "stdout",
     "output_type": "stream",
     "text": [
      "[71.754 61.574 84.656 67.94  69.236 70.666 76.776 69.478 76.462]\n"
     ]
    }
   ],
   "source": [
    "avg_marks = np.average(data, axis=1)\n",
    "print(avg_marks)"
   ]
  },
  {
   "cell_type": "code",
   "execution_count": 20,
   "id": "608c6bab",
   "metadata": {},
   "outputs": [
    {
     "name": "stdout",
     "output_type": "stream",
     "text": [
      "58.76    79.26\n",
      "72.56    85.54\n",
      "48.3     85.68\n",
      "81.17    77.20\n",
      "61.03    95.60\n",
      "Name: 2, dtype: float64\n"
     ]
    }
   ],
   "source": [
    "data = df.values\n",
    "\n",
    "total_marks = np.sum(data, axis=1)\n",
    "\n",
    "top_index = np.argmax(total_marks)\n",
    "\n",
    "# get top student detailes\n",
    "top_student = df.iloc[top_index]\n",
    "print(top_student)"
   ]
  },
  {
   "cell_type": "code",
   "execution_count": 22,
   "id": "bf55c664",
   "metadata": {},
   "outputs": [
    {
     "name": "stdout",
     "output_type": "stream",
     "text": [
      "Number of student who scored 90 in any subject : 9\n"
     ]
    }
   ],
   "source": [
    "data = df.values\n",
    "\n",
    "condition = np.any(data > 90, axis=1)\n",
    "\n",
    "count = np.sum(condition)\n",
    "print(f\"Number of student who scored 90 in any subject : {count}\")"
   ]
  },
  {
   "cell_type": "code",
   "execution_count": 24,
   "id": "30163c2f",
   "metadata": {},
   "outputs": [
    {
     "name": "stdout",
     "output_type": "stream",
     "text": [
      "      58.76     72.56      48.3     81.17     61.03\n",
      "0  0.739617 -1.544685 -0.802935  1.006543  0.677245\n",
      "1 -0.055490 -1.421942 -0.689719  0.830825 -1.215958\n",
      "2  0.820486  0.663700  0.807797 -0.067218  1.224810\n",
      "3 -0.776519 -0.647834  1.501684 -1.784847  0.534235\n",
      "4 -0.620337  0.963465 -0.438975  0.143514 -0.943855\n"
     ]
    }
   ],
   "source": [
    "data = df.values\n",
    "\n",
    "# compute mean std dev per subject\n",
    "means = np.mean(data, axis = 0)\n",
    "stds = np.std(data, axis=0)\n",
    "\n",
    "z_scores = (data - means)/stds\n",
    "\n",
    "z_df = pd.DataFrame(z_scores, columns=df.columns)\n",
    "\n",
    "print(z_df.head(5))"
   ]
  },
  {
   "cell_type": "code",
   "execution_count": 25,
   "id": "a77fd505",
   "metadata": {},
   "outputs": [
    {
     "data": {
      "text/html": [
       "<div>\n",
       "<style scoped>\n",
       "    .dataframe tbody tr th:only-of-type {\n",
       "        vertical-align: middle;\n",
       "    }\n",
       "\n",
       "    .dataframe tbody tr th {\n",
       "        vertical-align: top;\n",
       "    }\n",
       "\n",
       "    .dataframe thead th {\n",
       "        text-align: right;\n",
       "    }\n",
       "</style>\n",
       "<table border=\"1\" class=\"dataframe\">\n",
       "  <thead>\n",
       "    <tr style=\"text-align: right;\">\n",
       "      <th></th>\n",
       "      <th>58.76</th>\n",
       "      <th>72.56</th>\n",
       "      <th>48.3</th>\n",
       "      <th>81.17</th>\n",
       "      <th>61.03</th>\n",
       "    </tr>\n",
       "  </thead>\n",
       "  <tbody>\n",
       "    <tr>\n",
       "      <th>count</th>\n",
       "      <td>9.000000e+00</td>\n",
       "      <td>9.000000e+00</td>\n",
       "      <td>9.000000e+00</td>\n",
       "      <td>9.000000e+00</td>\n",
       "      <td>9.000000e+00</td>\n",
       "    </tr>\n",
       "    <tr>\n",
       "      <th>mean</th>\n",
       "      <td>3.454027e-16</td>\n",
       "      <td>-1.495717e-16</td>\n",
       "      <td>-5.982869e-16</td>\n",
       "      <td>1.233581e-16</td>\n",
       "      <td>-2.713879e-16</td>\n",
       "    </tr>\n",
       "    <tr>\n",
       "      <th>std</th>\n",
       "      <td>1.060660e+00</td>\n",
       "      <td>1.060660e+00</td>\n",
       "      <td>1.060660e+00</td>\n",
       "      <td>1.060660e+00</td>\n",
       "      <td>1.060660e+00</td>\n",
       "    </tr>\n",
       "    <tr>\n",
       "      <th>min</th>\n",
       "      <td>-1.403716e+00</td>\n",
       "      <td>-1.544685e+00</td>\n",
       "      <td>-1.803132e+00</td>\n",
       "      <td>-1.784847e+00</td>\n",
       "      <td>-1.326335e+00</td>\n",
       "    </tr>\n",
       "    <tr>\n",
       "      <th>25%</th>\n",
       "      <td>-7.765191e-01</td>\n",
       "      <td>-6.478341e-01</td>\n",
       "      <td>-6.897188e-01</td>\n",
       "      <td>-7.078437e-01</td>\n",
       "      <td>-9.438553e-01</td>\n",
       "    </tr>\n",
       "    <tr>\n",
       "      <th>50%</th>\n",
       "      <td>-5.549015e-02</td>\n",
       "      <td>-9.084782e-02</td>\n",
       "      <td>-2.014284e-02</td>\n",
       "      <td>1.435140e-01</td>\n",
       "      <td>5.342346e-01</td>\n",
       "    </tr>\n",
       "    <tr>\n",
       "      <th>75%</th>\n",
       "      <td>7.396171e-01</td>\n",
       "      <td>9.566189e-01</td>\n",
       "      <td>8.077975e-01</td>\n",
       "      <td>8.937202e-01</td>\n",
       "      <td>9.147947e-01</td>\n",
       "    </tr>\n",
       "    <tr>\n",
       "      <th>max</th>\n",
       "      <td>2.010060e+00</td>\n",
       "      <td>1.351742e+00</td>\n",
       "      <td>1.501684e+00</td>\n",
       "      <td>1.012379e+00</td>\n",
       "      <td>1.224810e+00</td>\n",
       "    </tr>\n",
       "  </tbody>\n",
       "</table>\n",
       "</div>"
      ],
      "text/plain": [
       "              58.76         72.56          48.3         81.17         61.03\n",
       "count  9.000000e+00  9.000000e+00  9.000000e+00  9.000000e+00  9.000000e+00\n",
       "mean   3.454027e-16 -1.495717e-16 -5.982869e-16  1.233581e-16 -2.713879e-16\n",
       "std    1.060660e+00  1.060660e+00  1.060660e+00  1.060660e+00  1.060660e+00\n",
       "min   -1.403716e+00 -1.544685e+00 -1.803132e+00 -1.784847e+00 -1.326335e+00\n",
       "25%   -7.765191e-01 -6.478341e-01 -6.897188e-01 -7.078437e-01 -9.438553e-01\n",
       "50%   -5.549015e-02 -9.084782e-02 -2.014284e-02  1.435140e-01  5.342346e-01\n",
       "75%    7.396171e-01  9.566189e-01  8.077975e-01  8.937202e-01  9.147947e-01\n",
       "max    2.010060e+00  1.351742e+00  1.501684e+00  1.012379e+00  1.224810e+00"
      ]
     },
     "execution_count": 25,
     "metadata": {},
     "output_type": "execute_result"
    }
   ],
   "source": [
    "z_df.describe()"
   ]
  },
  {
   "cell_type": "code",
   "execution_count": 27,
   "id": "2cdfe4c9",
   "metadata": {},
   "outputs": [
    {
     "name": "stdout",
     "output_type": "stream",
     "text": [
      "[2 6 8 0 5 7 4 3 1]\n"
     ]
    }
   ],
   "source": [
    "data = df.values\n",
    "\n",
    "total_scores = np.sum(data, axis=1)\n",
    "\n",
    "# get sorting index descending\n",
    "sorted_indices = np.argsort(-total_scores)\n",
    "print(sorted_indices)"
   ]
  },
  {
   "cell_type": "code",
   "execution_count": 29,
   "id": "d36ba173",
   "metadata": {},
   "outputs": [
    {
     "name": "stdout",
     "output_type": "stream",
     "text": [
      "   58.76  72.56   48.3  81.17  61.03\n",
      "2  79.26  85.54  85.68  77.20  95.60\n",
      "6  51.90  91.53  91.53  57.77  91.15\n",
      "8  98.53  70.11  77.38  93.85  42.44\n",
      "0  77.95  40.38  62.49  93.76  84.19\n",
      "5  68.47  67.26  73.76  92.02  51.82\n",
      "7  43.23  99.61  48.09  67.32  89.14\n",
      "4  55.92  91.67  67.73  80.45  50.41\n",
      "3  53.39  58.72  95.67  50.71  81.21\n",
      "1  65.07  42.89  64.12  91.05  44.74\n"
     ]
    }
   ],
   "source": [
    "df_sorted = df.iloc[sorted_indices].copy()\n",
    "print(df_sorted)"
   ]
  },
  {
   "cell_type": "code",
   "execution_count": 30,
   "id": "8d60e78a",
   "metadata": {},
   "outputs": [
    {
     "name": "stdout",
     "output_type": "stream",
     "text": [
      "<bound method NDFrame.head of    58.76  72.56   48.3  81.17  61.03   Total\n",
      "2  79.26  85.54  85.68  77.20  95.60  423.28\n",
      "6  51.90  91.53  91.53  57.77  91.15  383.88\n",
      "8  98.53  70.11  77.38  93.85  42.44  382.31\n",
      "0  77.95  40.38  62.49  93.76  84.19  358.77\n",
      "5  68.47  67.26  73.76  92.02  51.82  353.33\n",
      "7  43.23  99.61  48.09  67.32  89.14  347.39\n",
      "4  55.92  91.67  67.73  80.45  50.41  346.18\n",
      "3  53.39  58.72  95.67  50.71  81.21  339.70\n",
      "1  65.07  42.89  64.12  91.05  44.74  307.87>\n"
     ]
    }
   ],
   "source": [
    "df_sorted[\"Total\"] = total_scores[sorted_indices]\n",
    "df[\"Rank\"] = range(1, len(df_sorted) + 1)\n",
    "\n",
    "print(df_sorted.head)"
   ]
  },
  {
   "cell_type": "code",
   "execution_count": 31,
   "id": "85faab5e",
   "metadata": {},
   "outputs": [
    {
     "name": "stdout",
     "output_type": "stream",
     "text": [
      "[[77.95 40.38 62.49 93.76 84.19  1.  ]\n",
      " [65.07 42.89 64.12 91.05 44.74  2.  ]\n",
      " [79.26 85.54 85.68 77.2  95.6   3.  ]\n",
      " [53.39 58.72 95.67 50.71 81.21  4.  ]\n",
      " [55.92 91.67 67.73 80.45 50.41  5.  ]\n",
      " [68.47 67.26 73.76 92.02 51.82  6.  ]\n",
      " [51.9  91.53 91.53 57.77 91.15  7.  ]\n",
      " [43.23 99.61 48.09 67.32 89.14  8.  ]\n",
      " [98.53 70.11 77.38 93.85 42.44  9.  ]]\n"
     ]
    }
   ],
   "source": [
    "data = df.values\n",
    "print(data)"
   ]
  },
  {
   "cell_type": "code",
   "execution_count": 32,
   "id": "39329dc8",
   "metadata": {},
   "outputs": [
    {
     "data": {
      "text/html": [
       "<div>\n",
       "<style scoped>\n",
       "    .dataframe tbody tr th:only-of-type {\n",
       "        vertical-align: middle;\n",
       "    }\n",
       "\n",
       "    .dataframe tbody tr th {\n",
       "        vertical-align: top;\n",
       "    }\n",
       "\n",
       "    .dataframe thead th {\n",
       "        text-align: right;\n",
       "    }\n",
       "</style>\n",
       "<table border=\"1\" class=\"dataframe\">\n",
       "  <thead>\n",
       "    <tr style=\"text-align: right;\">\n",
       "      <th></th>\n",
       "      <th>58.76</th>\n",
       "      <th>72.56</th>\n",
       "      <th>48.3</th>\n",
       "      <th>81.17</th>\n",
       "      <th>61.03</th>\n",
       "      <th>Rank</th>\n",
       "    </tr>\n",
       "  </thead>\n",
       "  <tbody>\n",
       "    <tr>\n",
       "      <th>0</th>\n",
       "      <td>77.95</td>\n",
       "      <td>40.38</td>\n",
       "      <td>62.49</td>\n",
       "      <td>93.76</td>\n",
       "      <td>84.19</td>\n",
       "      <td>1</td>\n",
       "    </tr>\n",
       "    <tr>\n",
       "      <th>1</th>\n",
       "      <td>65.07</td>\n",
       "      <td>42.89</td>\n",
       "      <td>64.12</td>\n",
       "      <td>91.05</td>\n",
       "      <td>44.74</td>\n",
       "      <td>2</td>\n",
       "    </tr>\n",
       "    <tr>\n",
       "      <th>2</th>\n",
       "      <td>79.26</td>\n",
       "      <td>85.54</td>\n",
       "      <td>85.68</td>\n",
       "      <td>77.20</td>\n",
       "      <td>95.60</td>\n",
       "      <td>3</td>\n",
       "    </tr>\n",
       "    <tr>\n",
       "      <th>3</th>\n",
       "      <td>53.39</td>\n",
       "      <td>58.72</td>\n",
       "      <td>95.67</td>\n",
       "      <td>50.71</td>\n",
       "      <td>81.21</td>\n",
       "      <td>4</td>\n",
       "    </tr>\n",
       "    <tr>\n",
       "      <th>4</th>\n",
       "      <td>55.92</td>\n",
       "      <td>91.67</td>\n",
       "      <td>67.73</td>\n",
       "      <td>80.45</td>\n",
       "      <td>50.41</td>\n",
       "      <td>5</td>\n",
       "    </tr>\n",
       "    <tr>\n",
       "      <th>5</th>\n",
       "      <td>68.47</td>\n",
       "      <td>67.26</td>\n",
       "      <td>73.76</td>\n",
       "      <td>92.02</td>\n",
       "      <td>51.82</td>\n",
       "      <td>6</td>\n",
       "    </tr>\n",
       "    <tr>\n",
       "      <th>6</th>\n",
       "      <td>51.90</td>\n",
       "      <td>91.53</td>\n",
       "      <td>91.53</td>\n",
       "      <td>57.77</td>\n",
       "      <td>91.15</td>\n",
       "      <td>7</td>\n",
       "    </tr>\n",
       "    <tr>\n",
       "      <th>7</th>\n",
       "      <td>43.23</td>\n",
       "      <td>99.61</td>\n",
       "      <td>48.09</td>\n",
       "      <td>67.32</td>\n",
       "      <td>89.14</td>\n",
       "      <td>8</td>\n",
       "    </tr>\n",
       "    <tr>\n",
       "      <th>8</th>\n",
       "      <td>98.53</td>\n",
       "      <td>70.11</td>\n",
       "      <td>77.38</td>\n",
       "      <td>93.85</td>\n",
       "      <td>42.44</td>\n",
       "      <td>9</td>\n",
       "    </tr>\n",
       "  </tbody>\n",
       "</table>\n",
       "</div>"
      ],
      "text/plain": [
       "   58.76  72.56   48.3  81.17  61.03  Rank\n",
       "0  77.95  40.38  62.49  93.76  84.19     1\n",
       "1  65.07  42.89  64.12  91.05  44.74     2\n",
       "2  79.26  85.54  85.68  77.20  95.60     3\n",
       "3  53.39  58.72  95.67  50.71  81.21     4\n",
       "4  55.92  91.67  67.73  80.45  50.41     5\n",
       "5  68.47  67.26  73.76  92.02  51.82     6\n",
       "6  51.90  91.53  91.53  57.77  91.15     7\n",
       "7  43.23  99.61  48.09  67.32  89.14     8\n",
       "8  98.53  70.11  77.38  93.85  42.44     9"
      ]
     },
     "execution_count": 32,
     "metadata": {},
     "output_type": "execute_result"
    }
   ],
   "source": [
    "df"
   ]
  },
  {
   "cell_type": "code",
   "execution_count": 33,
   "id": "c83d9348",
   "metadata": {},
   "outputs": [
    {
     "name": "stdout",
     "output_type": "stream",
     "text": [
      "58.76: Variance = 262.41, Standard Deviation = 16.20\n",
      "72.56: Variance = 418.18, Standard Deviation = 20.45\n",
      "48.3: Variance = 207.28, Standard Deviation = 14.40\n",
      "81.17: Variance = 237.85, Standard Deviation = 15.42\n",
      "61.03: Variance = 434.21, Standard Deviation = 20.84\n",
      "Rank: Variance = 6.67, Standard Deviation = 2.58\n"
     ]
    }
   ],
   "source": [
    "# calculate column-wise variance and standard deviation\n",
    "variances = np.var(data, axis = 0)\n",
    "std_devs = np.std(data, axis =0)\n",
    "\n",
    "# Display with subjectt names\n",
    "for i, column in enumerate(df.columns):\n",
    "    print(f\"{column}: Variance = {variances[i]:.2f}, Standard Deviation = {std_devs[i]:.2f}\")"
   ]
  },
  {
   "cell_type": "code",
   "execution_count": 35,
   "id": "5251dd25",
   "metadata": {},
   "outputs": [
    {
     "name": "stdout",
     "output_type": "stream",
     "text": [
      "   City_A  City_B  City_C  City_D\n",
      "0    33.4    26.2    30.3    40.7\n",
      "1    35.4    32.7    39.9    29.3\n",
      "2    30.2    38.7    28.4    33.5\n",
      "3    25.1    41.8    30.7    38.1\n",
      "4    38.6    40.9    30.3    34.6\n",
      "5    38.0    32.6    37.2    36.2\n",
      "6    35.7    36.7    40.1    37.7\n"
     ]
    }
   ],
   "source": [
    "## Practice on city_temperatures.csv files\n",
    "data_array = pd.read_csv('city_temperatures.csv', delimiter=',')\n",
    "print(data_array)"
   ]
  },
  {
   "cell_type": "code",
   "execution_count": 36,
   "id": "01593f28",
   "metadata": {},
   "outputs": [
    {
     "name": "stdout",
     "output_type": "stream",
     "text": [
      "[[77.95 40.38 62.49 93.76 84.19  1.  ]\n",
      " [65.07 42.89 64.12 91.05 44.74  2.  ]\n",
      " [79.26 85.54 85.68 77.2  95.6   3.  ]\n",
      " [53.39 58.72 95.67 50.71 81.21  4.  ]\n",
      " [55.92 91.67 67.73 80.45 50.41  5.  ]\n",
      " [68.47 67.26 73.76 92.02 51.82  6.  ]\n",
      " [51.9  91.53 91.53 57.77 91.15  7.  ]\n",
      " [43.23 99.61 48.09 67.32 89.14  8.  ]\n",
      " [98.53 70.11 77.38 93.85 42.44  9.  ]]\n"
     ]
    }
   ],
   "source": [
    "data = df.values\n",
    "print(data)"
   ]
  },
  {
   "cell_type": "code",
   "execution_count": 39,
   "id": "3f72f7ca",
   "metadata": {},
   "outputs": [
    {
     "name": "stdout",
     "output_type": "stream",
     "text": [
      "Temperatures in fehrenheit\n",
      "     58.76    72.56     48.3    81.17    61.03  Rank\n",
      "0  172.310  104.684  144.482  200.768  183.542  33.8\n",
      "1  149.126  109.202  147.416  195.890  112.532  35.6\n",
      "2  174.668  185.972  186.224  170.960  204.080  37.4\n",
      "3  128.102  137.696  204.206  123.278  178.178  39.2\n",
      "4  132.656  197.006  153.914  176.810  122.738  41.0\n",
      "5  155.246  153.068  164.768  197.636  125.276  42.8\n",
      "6  125.420  196.754  196.754  135.986  196.070  44.6\n",
      "7  109.814  211.298  118.562  153.176  192.452  46.4\n",
      "8  209.354  158.198  171.284  200.930  108.392  48.2:.2f\n"
     ]
    }
   ],
   "source": [
    "fahrenheit = (data * 9/5) + 32\n",
    "\n",
    "df_fahrenheit = pd.DataFrame(fahrenheit, columns=df.columns)\n",
    "\n",
    "print(\"Temperatures in fehrenheit\")\n",
    "print(f\"{df_fahrenheit}:.2f\")"
   ]
  },
  {
   "cell_type": "code",
   "execution_count": 40,
   "id": "290629e1",
   "metadata": {},
   "outputs": [
    {
     "name": "stdout",
     "output_type": "stream",
     "text": [
      "0    59.96\n",
      "1    51.64\n",
      "2    71.05\n",
      "3    57.28\n",
      "4    58.53\n",
      "5    59.89\n",
      "6    65.15\n",
      "7    59.23\n",
      "8    65.22\n",
      "Name: Daily_Avg_Temp, dtype: float64\n"
     ]
    }
   ],
   "source": [
    "data = df.values\n",
    "\n",
    "daily_avg = np.mean(data, axis=1)\n",
    "\n",
    "df[\"Daily_Avg_Temp\"] = np.round(daily_avg,2)\n",
    "\n",
    "print(df[\"Daily_Avg_Temp\"])"
   ]
  },
  {
   "cell_type": "code",
   "execution_count": 42,
   "id": "720263f4",
   "metadata": {},
   "outputs": [
    {
     "name": "stdout",
     "output_type": "stream",
     "text": [
      "🔥 Highest temperature was 99.61°C on Day 8 in 72.56.\n"
     ]
    }
   ],
   "source": [
    "data = df.values\n",
    "cities = df.columns\n",
    "\n",
    "max_temp = np.max(data)\n",
    "day_idx, city_idx = np.unravel_index(np.argmax(data), data.shape)\n",
    "\n",
    "city_with_max_temp = cities[city_idx]\n",
    "day_number =  day_idx + 1\n",
    "\n",
    "print(f\"🔥 Highest temperature was {max_temp}°C on Day {day_number} in {city_with_max_temp}.\")"
   ]
  },
  {
   "cell_type": "code",
   "execution_count": 44,
   "id": "c340066a",
   "metadata": {},
   "outputs": [
    {
     "name": "stdout",
     "output_type": "stream",
     "text": [
      "No days found where all cities had temperature above 35\n"
     ]
    }
   ],
   "source": [
    "data = df.values\n",
    "\n",
    "days_all_above_35 = np.all(data > 35, axis =1)\n",
    "\n",
    "days = np.where(days_all_above_35)[0] + 1\n",
    "\n",
    "if len(days) ==0:\n",
    "    print(\"No days found where all cities had temperature above 35\")\n",
    "else:\n",
    "    print(f\"Days when all cities were above 35C :{days}\")"
   ]
  },
  {
   "cell_type": "code",
   "execution_count": 45,
   "id": "d27df7ff",
   "metadata": {},
   "outputs": [
    {
     "data": {
      "text/plain": [
       "array([False, False, False, False, False, False, False, False, False])"
      ]
     },
     "execution_count": 45,
     "metadata": {},
     "output_type": "execute_result"
    }
   ],
   "source": [
    "days_all_above_35"
   ]
  },
  {
   "cell_type": "code",
   "execution_count": 46,
   "id": "10be1950",
   "metadata": {},
   "outputs": [
    {
     "name": "stdout",
     "output_type": "stream",
     "text": [
      "   58.76  72.56  48.3  81.17  61.03  Rank  Daily_Avg_Temp\n",
      "0    NaN    NaN   NaN    NaN    NaN     1             NaN\n",
      "1    NaN    NaN   NaN    NaN    NaN     2             NaN\n",
      "2    NaN    NaN   NaN    NaN    NaN     3             NaN\n",
      "3    NaN    NaN   NaN    NaN    NaN     4             NaN\n",
      "4    NaN    NaN   NaN    NaN    NaN     5             NaN\n",
      "5    NaN    NaN   NaN    NaN    NaN     6             NaN\n",
      "6    NaN    NaN   NaN    NaN    NaN     7             NaN\n",
      "7    NaN    NaN   NaN    NaN    NaN     8             NaN\n",
      "8    NaN    NaN   NaN    NaN    NaN     9             NaN\n"
     ]
    }
   ],
   "source": [
    "df_cleaned = df.mask(df > 40)\n",
    "\n",
    "print(df_cleaned)"
   ]
  },
  {
   "cell_type": "code",
   "execution_count": 47,
   "id": "4edb1bba",
   "metadata": {},
   "outputs": [
    {
     "name": "stdout",
     "output_type": "stream",
     "text": [
      "[[ 79.  105.9  98.3]\n",
      " [ 74.  110.1  99.3]\n",
      " [ 71.8 105.1  98.9]\n",
      " [ 64.4 135.3  99.2]\n",
      " [ 75.8 129.4  97.9]\n",
      " [ 77.7 126.6  99.6]\n",
      " [ 67.9 121.3  98.2]\n",
      " [ 81.4 116.3  98.4]\n",
      " [ 77.4 135.4  98.4]\n",
      " [ 84.1 129.9  98.9]\n",
      " [ 72.1 116.4  98.8]\n",
      " [ 71.7 116.8  99.1]\n",
      " [ 71.3 121.1  98. ]\n",
      " [ 77.5 143.5  97.6]\n",
      " [ 77.3 138.2  99.1]]\n"
     ]
    }
   ],
   "source": [
    "## Practice on patient_vitals.csv\n",
    "\n",
    "import pandas as pd\n",
    "import numpy as np\n",
    "\n",
    "df = pd.read_csv('patient_vitals.csv')\n",
    "vitals_array = df.values\n",
    "print(vitals_array)"
   ]
  },
  {
   "cell_type": "code",
   "execution_count": 48,
   "id": "6f76031b",
   "metadata": {},
   "outputs": [
    {
     "name": "stdout",
     "output_type": "stream",
     "text": [
      "Average HeartRate : 74.89\n",
      "Average BloodPressure : 123.42\n",
      "Average Temperature : 98.65\n"
     ]
    }
   ],
   "source": [
    "vitals = df.values\n",
    "\n",
    "avg_vitals = np.mean(vitals, axis=0)\n",
    "\n",
    "for col, avg in zip(df.columns, avg_vitals):\n",
    "    print(f\"Average {col} : {avg:.2f}\")"
   ]
  },
  {
   "cell_type": "code",
   "execution_count": null,
   "id": "174ebc34",
   "metadata": {},
   "outputs": [],
   "source": [
    "df = pd.read_csv('patient_vitals.csv')\n",
    "\n",
    "bp = df[\"BloodPressure\"].values\n",
    "\n",
    "Q1 = np.percentile(bp, 25)\n",
    "Q3 = np.percentile(bp, 75)\n",
    "IQR = Q3 - Q1\n",
    "\n",
    "\n",
    "lower_bond = Q1 - 1.5 *IQR\n",
    "upper_bond = Q3 + 1.5 * IQR\n"
   ]
  }
 ],
 "metadata": {
  "kernelspec": {
   "display_name": "Python 3",
   "language": "python",
   "name": "python3"
  },
  "language_info": {
   "codemirror_mode": {
    "name": "ipython",
    "version": 3
   },
   "file_extension": ".py",
   "mimetype": "text/x-python",
   "name": "python",
   "nbconvert_exporter": "python",
   "pygments_lexer": "ipython3",
   "version": "3.10.0"
  }
 },
 "nbformat": 4,
 "nbformat_minor": 5
}
