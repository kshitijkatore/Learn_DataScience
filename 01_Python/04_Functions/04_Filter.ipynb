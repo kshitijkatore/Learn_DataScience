{
 "cells": [
  {
   "cell_type": "code",
   "execution_count": 3,
   "id": "ffbdb6d0",
   "metadata": {},
   "outputs": [
    {
     "data": {
      "text/plain": [
       "[2, 4, 6, 8, 10, 12, 14]"
      ]
     },
     "execution_count": 3,
     "metadata": {},
     "output_type": "execute_result"
    }
   ],
   "source": [
    "def even(num):\n",
    "    if num%2==0:\n",
    "        return True\n",
    "lst = [1,2,3,4,5,6,7,8,9,10,11,12,13,14,15]\n",
    "\n",
    "list(filter(even,lst))"
   ]
  },
  {
   "cell_type": "code",
   "execution_count": 4,
   "metadata": {},
   "outputs": [
    {
     "name": "stdout",
     "output_type": "stream",
     "text": [
      "[6, 7, 8, 9, 10]\n"
     ]
    }
   ],
   "source": [
    "## filter with a lambda function\n",
    "numbers = [1,2,3,4,5,6,7,8,9,10]\n",
    "greter_than_five = list(filter(lambda x:x>5, numbers))\n",
    "print(greter_than_five)"
   ]
  },
  {
   "cell_type": "code",
   "execution_count": 6,
   "id": "340ef6d9",
   "metadata": {},
   "outputs": [
    {
     "name": "stdout",
     "output_type": "stream",
     "text": [
      "[6, 8, 10, 12, 14]\n"
     ]
    }
   ],
   "source": [
    "## Filter with a lambda function and multiple condition\n",
    "\n",
    "num = [1,2,3,4,5,6,7,8,9,10,11,12,13,14,15]\n",
    "\n",
    "even_and_greter_than_five = list(filter(lambda x:x>5 and x%2==0, num))\n",
    "print(even_and_greter_than_five)"
   ]
  },
  {
   "cell_type": "code",
   "execution_count": null,
   "id": "fa0521eb",
   "metadata": {},
   "outputs": [],
   "source": [
    "people = [\n",
    "    {'name':'Krish',}\n",
    "]"
   ]
  }
 ],
 "metadata": {
  "kernelspec": {
   "display_name": "Python 3",
   "language": "python",
   "name": "python3"
  },
  "language_info": {
   "codemirror_mode": {
    "name": "ipython",
    "version": 3
   },
   "file_extension": ".py",
   "mimetype": "text/x-python",
   "name": "python",
   "nbconvert_exporter": "python",
   "pygments_lexer": "ipython3",
   "version": "3.10.0"
  }
 },
 "nbformat": 4,
 "nbformat_minor": 5
}
