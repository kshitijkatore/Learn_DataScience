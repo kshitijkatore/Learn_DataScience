{
 "cells": [
  {
   "cell_type": "code",
   "execution_count": 1,
   "id": "a4d3e70b",
   "metadata": {},
   "outputs": [
    {
     "name": "stdout",
     "output_type": "stream",
     "text": [
      "The variable not been assigned\n"
     ]
    }
   ],
   "source": [
    "## Exception try, except block\n",
    "\n",
    "try:\n",
    "    a=b\n",
    "except:\n",
    "    print(\"The variable not been assigned\")"
   ]
  },
  {
   "cell_type": "code",
   "execution_count": 2,
   "id": "8c3eace1",
   "metadata": {},
   "outputs": [
    {
     "name": "stdout",
     "output_type": "stream",
     "text": [
      "name 'b' is not defined\n"
     ]
    }
   ],
   "source": [
    "try:\n",
    "    a=b\n",
    "except NameError as ex:\n",
    "    print(ex)"
   ]
  },
  {
   "cell_type": "code",
   "execution_count": 5,
   "id": "7131a62b",
   "metadata": {},
   "outputs": [
    {
     "name": "stdout",
     "output_type": "stream",
     "text": [
      "division by zero\n",
      "Please enter the dinominator zero.\n"
     ]
    }
   ],
   "source": [
    "try:\n",
    "    result = 1/0\n",
    "except ZeroDivisionError as ex:\n",
    "    print(ex)\n",
    "    print(\"Please enter the dinominator zero.\")"
   ]
  },
  {
   "cell_type": "code",
   "execution_count": 1,
   "id": "cf768ceb",
   "metadata": {},
   "outputs": [
    {
     "name": "stdout",
     "output_type": "stream",
     "text": [
      "name 'b' is not defined\n",
      "main exception got caught here\n"
     ]
    }
   ],
   "source": [
    "try:\n",
    "    result =1/2\n",
    "    a=b\n",
    "except ZeroDivisionError as ex:\n",
    "    print(ex)\n",
    "    print(\"Please enter the denominator greter than 0\")\n",
    "except Exception as ex1:\n",
    "    print(ex1)\n",
    "    print(\"main exception got caught here\")"
   ]
  },
  {
   "cell_type": "code",
   "execution_count": 6,
   "id": "dbd0733f",
   "metadata": {},
   "outputs": [],
   "source": [
    "try:\n",
    "    num = int(input(\"Enter the a number:\"))\n",
    "    result = 10/num\n",
    "except ValueError:\n",
    "    print(\"Thise is not a valid number\")\n",
    "except ZeroDivisionError:\n",
    "    print(\"Enter denominator greter than 0\")\n",
    "except Exception as ex:\n",
    "    print(ex)\n"
   ]
  },
  {
   "cell_type": "code",
   "execution_count": 8,
   "id": "4dc97b6a",
   "metadata": {},
   "outputs": [
    {
     "name": "stdout",
     "output_type": "stream",
     "text": [
      "The result is 0.23255813953488372\n"
     ]
    }
   ],
   "source": [
    "## try,except,else block\n",
    "num = int(input(\"Enter the number:\"))\n",
    "try:\n",
    "    num =int(input(\"Enter a number:\"))\n",
    "    result = 10/num\n",
    "except ValueError:\n",
    "    print(\"Thise is not a valid number!\")\n",
    "except ZeroDivisionError:\n",
    "    print(\"You cant divide by zero\")\n",
    "except Exception as ex:\n",
    "    print(ex)\n",
    "else:\n",
    "    print(f\"The result is {result}\")\n",
    "\n"
   ]
  },
  {
   "cell_type": "code",
   "execution_count": null,
   "id": "1ab2e4e3",
   "metadata": {},
   "outputs": [
    {
     "name": "stdout",
     "output_type": "stream",
     "text": [
      "The result is 0.8333333333333334\n",
      "Execution Completed\n"
     ]
    }
   ],
   "source": [
    "##  try,except,else and finally\n",
    "try:\n",
    "    num =int(input(\"Enter a number:\"))\n",
    "    result = 10/num\n",
    "except ValueError:\n",
    "    print(\"Thise is not a valid number!\")\n",
    "except ZeroDivisionError:\n",
    "    print(\"You cant divide by zero\")\n",
    "except Exception as ex:\n",
    "    print(ex)\n",
    "else:\n",
    "    print(f\"The result is {result}\")\n",
    "finally:\n",
    "    print(\"Execution Completed\")"
   ]
  },
  {
   "cell_type": "code",
   "execution_count": 12,
   "id": "dec4339e",
   "metadata": {},
   "outputs": [
    {
     "name": "stdout",
     "output_type": "stream",
     "text": [
      "\n",
      "name 'b' is not defined\n",
      "File close\n"
     ]
    }
   ],
   "source": [
    "## file handling and Exception Handling\n",
    "\n",
    "try:\n",
    "    file = open('example.txt', 'r')\n",
    "    content = file.read()\n",
    "    print(content)\n",
    "    a=b\n",
    "except FileNotFoundError:\n",
    "    print(\"The file does not exists\")\n",
    "except Exception as ex:\n",
    "    print(ex)\n",
    "\n",
    "finally:\n",
    "    if 'file' in locals() or not file.closed():\n",
    "        file.close()\n",
    "        print(\"File close\")"
   ]
  },
  {
   "cell_type": "markdown",
   "id": "9021553f",
   "metadata": {},
   "source": [
    "### Quetions - Practice"
   ]
  },
  {
   "cell_type": "code",
   "execution_count": null,
   "id": "1f9c1c21",
   "metadata": {},
   "outputs": [
    {
     "name": "stdout",
     "output_type": "stream",
     "text": [
      "Enter denominator not divisible by zero.\n"
     ]
    }
   ],
   "source": [
    "### Write a program to divide two numbers using try and except (handle divide-by-zero).\n",
    "\n",
    "try:\n",
    "    num1 = int(input(\"Enter the number :\"))\n",
    "    num2 = int(input(\"Enter the number :\"))\n",
    "    result = num1/num2\n",
    "except ZeroDivisionError:\n",
    "    print(\"Enter denominator not divisible by zero.\")\n",
    "except Exception as ex:\n",
    "    print(ex)"
   ]
  },
  {
   "cell_type": "code",
   "execution_count": 15,
   "id": "587b2fda",
   "metadata": {},
   "outputs": [
    {
     "name": "stdout",
     "output_type": "stream",
     "text": [
      "You not give the value\n",
      "Code run succesfully.\n"
     ]
    }
   ],
   "source": [
    "### Use try-except to catch a ValueError when converting user input to integer.\n",
    "try:\n",
    "    num = int(input(\"Enter the value :\"))\n",
    "except ValueError:\n",
    "    print(\"You not give the value\")\n",
    "\n",
    "finally:\n",
    "    print(\"Code run succesfully.\")"
   ]
  },
  {
   "cell_type": "code",
   "execution_count": 19,
   "id": "6a77e26f",
   "metadata": {},
   "outputs": [
    {
     "name": "stdout",
     "output_type": "stream",
     "text": [
      "name 'b' is not defined\n"
     ]
    }
   ],
   "source": [
    "## Write a program that tries to access an undefined variable and handles the exception.\n",
    "\n",
    "try:\n",
    "    a=b\n",
    "except NameError as ex:\n",
    "    print(ex)\n",
    "except Exception as ex1:\n",
    "    print(exx1)\n"
   ]
  },
  {
   "cell_type": "code",
   "execution_count": 22,
   "id": "f6045c3e",
   "metadata": {},
   "outputs": [
    {
     "name": "stdout",
     "output_type": "stream",
     "text": [
      "list index out of range\n"
     ]
    }
   ],
   "source": [
    "try:\n",
    "    lst = [1,2,3,4,5]\n",
    "    index = lst[5]\n",
    "except Exception as ex:\n",
    "    print(ex)\n"
   ]
  },
  {
   "cell_type": "code",
   "execution_count": 26,
   "id": "86d93208",
   "metadata": {},
   "outputs": [
    {
     "name": "stdout",
     "output_type": "stream",
     "text": [
      "invalid literal for int() with base 10: 'xitij'\n"
     ]
    }
   ],
   "source": [
    "try:\n",
    "    str = input(\"Enter the string\")\n",
    "    n = int(str)\n",
    "    print(n)\n",
    "except Exception as ex:\n",
    "    print(ex)\n"
   ]
  },
  {
   "cell_type": "code",
   "execution_count": 27,
   "id": "a1c54ba7",
   "metadata": {},
   "outputs": [
    {
     "name": "stdout",
     "output_type": "stream",
     "text": [
      "6.0\n"
     ]
    }
   ],
   "source": [
    "try:\n",
    "    num1 = int(input(\"Enter the number:\"))\n",
    "    num2 = int(input(\"Enter the number\"))\n",
    "\n",
    "    div = num1/num2\n",
    "except ZeroDivisionError:\n",
    "    print(\"Enter denominator. not zero\")\n",
    "else:\n",
    "    print(f\"{div}\")"
   ]
  },
  {
   "cell_type": "code",
   "execution_count": 28,
   "id": "b0773a80",
   "metadata": {},
   "outputs": [
    {
     "name": "stdout",
     "output_type": "stream",
     "text": [
      "Enter the the integer Number:\n"
     ]
    }
   ],
   "source": [
    "try:\n",
    "    num = int(input(\"Enter the number:\"))\n",
    "except ValueError:\n",
    "    print(\"Enter the the integer Number:\")\n"
   ]
  },
  {
   "cell_type": "code",
   "execution_count": 29,
   "id": "dcff7db4",
   "metadata": {},
   "outputs": [
    {
     "name": "stdout",
     "output_type": "stream",
     "text": [
      "File does not exists!\n"
     ]
    }
   ],
   "source": [
    "try:\n",
    "    file = open(\"exception1.txt\", 'r')\n",
    "    content = file.read()\n",
    "    print(content)\n",
    "except FileNotFoundError:\n",
    "    print(\"File does not exists!\")\n"
   ]
  },
  {
   "cell_type": "code",
   "execution_count": 32,
   "id": "62274bf5",
   "metadata": {},
   "outputs": [
    {
     "name": "stdout",
     "output_type": "stream",
     "text": [
      "Please enter the valid denominator.\n",
      "Result are showed.\n"
     ]
    }
   ],
   "source": [
    "try:\n",
    "    num1 = int(input(\"Enter the number :\"))\n",
    "    num2 = int(input(\"ENter the number :\"))\n",
    "    result = num1/num2\n",
    "except ZeroDivisionError:\n",
    "    print(\"Please enter the valid denominator.\")\n",
    "except Exception as e:\n",
    "    print(e)\n",
    "else:\n",
    "    print(f\"Result : {result}\")\n",
    "finally:\n",
    "        print(\"Result are showed.\")"
   ]
  },
  {
   "cell_type": "code",
   "execution_count": 34,
   "id": "47eed659",
   "metadata": {},
   "outputs": [
    {
     "name": "stdout",
     "output_type": "stream",
     "text": [
      "Withdrawal succcessful. remaining balance : 3000\n",
      "Transaction processed.\n",
      "\n",
      "Withdrawal failed: Insufficient balance.\n",
      "Transaction processed.\n",
      "\n"
     ]
    }
   ],
   "source": [
    "def withdraw(balance, amount):\n",
    "    try:\n",
    "        if amount > balance:\n",
    "            raise ValueError(\"Insufficient balance.\")\n",
    "    except ValueError as ve:\n",
    "        print(\"Withdrawal failed:\", ve)\n",
    "    else:\n",
    "        balance -= amount\n",
    "        print(f\"Withdrawal succcessful. remaining balance : {balance}\")\n",
    "    finally:\n",
    "        print(\"Transaction processed.\\n\")\n",
    "\n",
    "withdraw(5000,2000)\n",
    "withdraw(3000, 4000)"
   ]
  },
  {
   "cell_type": "code",
   "execution_count": 37,
   "id": "25c6bfdf",
   "metadata": {},
   "outputs": [
    {
     "name": "stdout",
     "output_type": "stream",
     "text": [
      "Give the valid format\n",
      "number Showed.\n"
     ]
    }
   ],
   "source": [
    "try:\n",
    "    num = int(input(\"Enter the integer:\"))\n",
    "    square = num**2\n",
    "except ValueError:\n",
    "    print(\"Give the valid format\")\n",
    "else:\n",
    "    print(f\"Square : {square}\")\n",
    "finally:\n",
    "    print(\"number Showed.\")\n"
   ]
  },
  {
   "cell_type": "code",
   "execution_count": 39,
   "id": "91ea8aef",
   "metadata": {},
   "outputs": [
    {
     "name": "stdout",
     "output_type": "stream",
     "text": [
      "Password : jgr4b43j4\n"
     ]
    }
   ],
   "source": [
    "try:\n",
    "    passwd = (input(\"Enter the password.\"))\n",
    "    if len(passwd) == 8:\n",
    "        print(\"Password is valid\")\n",
    "except ValueError:\n",
    "    print(\"Passwrod is to short.\")\n",
    "else:\n",
    "    print(f\"Password : {passwd}\")\n",
    "\n",
    "        "
   ]
  },
  {
   "cell_type": "code",
   "execution_count": 41,
   "id": "f92d6420",
   "metadata": {},
   "outputs": [
    {
     "name": "stdout",
     "output_type": "stream",
     "text": [
      "Hellow World!\n"
     ]
    }
   ],
   "source": [
    "with open(\"example.txt\", 'r') as file:\n",
    "    content = file.read()\n",
    "    print(content)"
   ]
  },
  {
   "cell_type": "code",
   "execution_count": 42,
   "id": "81737988",
   "metadata": {},
   "outputs": [
    {
     "name": "stdout",
     "output_type": "stream",
     "text": [
      "File does not found!\n"
     ]
    }
   ],
   "source": [
    "try:\n",
    "    file = open(\"Example1.txt\", 'r')\n",
    "    content = file.read()\n",
    "    print(content)\n",
    "except FileNotFoundError:\n",
    "    print(\"File does not found!\")"
   ]
  },
  {
   "cell_type": "code",
   "execution_count": 45,
   "id": "56d58f1f",
   "metadata": {},
   "outputs": [
    {
     "name": "stdout",
     "output_type": "stream",
     "text": [
      "File content\n",
      "\n",
      "Hello, thise file was created using write mode!\n",
      "Each eun will overwirte the previous contet.\n",
      "\n"
     ]
    }
   ],
   "source": [
    "with open(\"example_1.txt\", 'w') as file:\n",
    "    file.write(\"Hello, thise file was created using write mode!\\n\")\n",
    "    file.write(\"Each eun will overwirte the previous contet.\\n\")\n",
    "\n",
    "\n",
    "with open(\"example_1.txt\", 'r') as file:\n",
    "    content = file.read()\n",
    "    print(\"File content\\n\")\n",
    "    print(content)"
   ]
  },
  {
   "cell_type": "code",
   "execution_count": null,
   "id": "380196f7",
   "metadata": {},
   "outputs": [],
   "source": [
    "line = [\"First lines\\n\",\"Second line\\n\"]\n",
    "\n",
    "with open('example_1.txt', 'a') as file:\n",
    "    content = file.writelines(line)\n",
    "\n",
    "\n",
    "\n"
   ]
  },
  {
   "cell_type": "code",
   "execution_count": 56,
   "id": "e712c03e",
   "metadata": {},
   "outputs": [
    {
     "name": "stdout",
     "output_type": "stream",
     "text": [
      "'builtin_function_or_method' object has no attribute 'count'\n"
     ]
    }
   ],
   "source": [
    "def count_error_occurrences(filename):\n",
    "    try:\n",
    "        with open(filename, 'r') as file:\n",
    "            content = file.read().lower\n",
    "            count = content.count(\"error\")\n",
    "            print(f\"THe wor arror appears {count}\")\n",
    "    except FileNotFoundError:\n",
    "        print(f\"File 'filename' not found. \")\n",
    "    except Exception as  e:\n",
    "        print(e)\n",
    "\n",
    "count_error_occurrences(\"example_1.txt\")"
   ]
  },
  {
   "cell_type": "code",
   "execution_count": 57,
   "id": "03dbc298",
   "metadata": {},
   "outputs": [
    {
     "name": "stdout",
     "output_type": "stream",
     "text": [
      "File opened Successfully.\n"
     ]
    }
   ],
   "source": [
    "try:\n",
    "    with open(\"example.txt\", 'r') as file:\n",
    "        content = file.read()\n",
    "\n",
    "except FileNotFoundError:\n",
    "    print(\"File does not exists.\")\n",
    "else:\n",
    "    print(\"File opened Successfully.\")\n"
   ]
  },
  {
   "cell_type": "code",
   "execution_count": 4,
   "id": "917f0509",
   "metadata": {},
   "outputs": [
    {
     "name": "stdout",
     "output_type": "stream",
     "text": [
      "content of my_notes.txt: \n",
      "\n",
      "This file was created or updated using \n",
      "\n"
     ]
    }
   ],
   "source": [
    "def create_or_append_file(filename, message):\n",
    "    try:\n",
    "        with open(filename, 'a+') as file:\n",
    "            file.write(message+ '\\n')\n",
    "            file.seek(0)\n",
    "            content = file.read()\n",
    "            print(f\"content of {filename}: \\n\")\n",
    "            print(content)\n",
    "    except Exception as e:\n",
    "        print(f\"error {e}\")\n",
    "\n",
    "create_or_append_file(\"my_notes.txt\", \"This file was created or updated using \")"
   ]
  },
  {
   "cell_type": "code",
   "execution_count": 5,
   "id": "ba95d08d",
   "metadata": {},
   "outputs": [
    {
     "name": "stdout",
     "output_type": "stream",
     "text": [
      "Error : not writable\n"
     ]
    }
   ],
   "source": [
    "try:\n",
    "    with open(\"example.txt\", 'r') as file:\n",
    "        file.write(\"Hellow world\\n\")\n",
    "except Exception as e:\n",
    "    print(f\"Error : {e}\")"
   ]
  },
  {
   "cell_type": "code",
   "execution_count": 7,
   "id": "d8269ef9",
   "metadata": {},
   "outputs": [
    {
     "name": "stdout",
     "output_type": "stream",
     "text": [
      "Write successful\n"
     ]
    }
   ],
   "source": [
    "def write_to_read_only_file(filename, content):\n",
    "    try:\n",
    "        with open(filename,'w') as file:\n",
    "            file.write(content)\n",
    "            print(\"Write successful\")\n",
    "    except PermissionError:\n",
    "        print(f\"permissionError: you dont have to write access to {filename}\")\n",
    "    except Exception as e:\n",
    "        print(f\"Unexpected error :{e}\")\n",
    "\n",
    "write_to_read_only_file(\"readonly_file.txt\", \"Trying to write to a read=only file\")"
   ]
  },
  {
   "cell_type": "code",
   "execution_count": 13,
   "id": "379e80e1",
   "metadata": {},
   "outputs": [
    {
     "name": "stdout",
     "output_type": "stream",
     "text": [
      "Error: Number is too small\n",
      "Number is valid: 15\n"
     ]
    }
   ],
   "source": [
    "class TooSmallError(Exception):\n",
    "    pass\n",
    "\n",
    "def check_number(n):\n",
    "    try:\n",
    "        if n < 10:\n",
    "            raise TooSmallError(\"Number is too small\")\n",
    "    except TooSmallError as e:\n",
    "        print(\"Error:\", e)\n",
    "    else:\n",
    "        print(\"Number is valid:\", n)\n",
    "\n",
    "check_number(5)\n",
    "check_number(15)\n"
   ]
  },
  {
   "cell_type": "code",
   "execution_count": null,
   "id": "136d2df6",
   "metadata": {},
   "outputs": [],
   "source": [
    "def read_file(filename):\n",
    "    try:\n",
    "        with open(filename, 'r') as file:\n",
    "            print(\"\\n File content: \\n\")\n",
    "            print(file.read())\n",
    "    except FileNotFoundError:\n",
    "        print(\"Error : File not found.\")\n",
    "    except Exception as e:\n",
    "        print(\"Error:\",e)\n",
    "\n",
    "def write_file(filename):\n",
    "    try"
   ]
  }
 ],
 "metadata": {
  "kernelspec": {
   "display_name": "Python 3",
   "language": "python",
   "name": "python3"
  },
  "language_info": {
   "codemirror_mode": {
    "name": "ipython",
    "version": 3
   },
   "file_extension": ".py",
   "mimetype": "text/x-python",
   "name": "python",
   "nbconvert_exporter": "python",
   "pygments_lexer": "ipython3",
   "version": "3.12.11"
  }
 },
 "nbformat": 4,
 "nbformat_minor": 5
}
