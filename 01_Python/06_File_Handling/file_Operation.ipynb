{
 "cells": [
  {
   "cell_type": "code",
   "execution_count": 2,
   "id": "de78b3a3",
   "metadata": {},
   "outputs": [
    {
     "name": "stdout",
     "output_type": "stream",
     "text": [
      "Hello world\n",
      "Thise is a new line \n",
      "\n"
     ]
    }
   ],
   "source": [
    "## Read a whole File\n",
    "\n",
    "with open('example.txt','r') as file:\n",
    "    content = file.read()\n",
    "    print(content)\n"
   ]
  },
  {
   "cell_type": "code",
   "execution_count": 3,
   "metadata": {},
   "outputs": [
    {
     "name": "stdout",
     "output_type": "stream",
     "text": [
      "Hello world\n",
      "Thise is a new line\n"
     ]
    }
   ],
   "source": [
    "## Read a file line by line\n",
    "with open('example.txt','r') as file:\n",
    "    for line in file:\n",
    "        print(line.strip()) ## strip() remove the newline character"
   ]
  },
  {
   "cell_type": "code",
   "execution_count": 4,
   "id": "185d93c2",
   "metadata": {},
   "outputs": [],
   "source": [
    "## Writting a file(Overwriting)\n",
    "with open('example.txt','w') as file:\n",
    "    file.write(\"Hello World\\n\")\n",
    "    file.write('this is a new line.')\n",
    "    "
   ]
  },
  {
   "cell_type": "code",
   "execution_count": 5,
   "id": "5587b47c",
   "metadata": {},
   "outputs": [],
   "source": [
    "## Write a file(Without Overwriting)\n",
    "with open('example.txt', 'a') as file:\n",
    "    file.write('Append Operation taking Palce\\n')\n",
    "    "
   ]
  },
  {
   "cell_type": "code",
   "execution_count": 6,
   "id": "d3dc1961",
   "metadata": {},
   "outputs": [],
   "source": [
    "## Writing a list of lines to a file\n",
    "lines = ['First lines\\n',\"Second line\\n\", \"Third Line\\n\"]\n",
    "with open('example.txt', 'a') as file:\n",
    "    file.writelines(lines)"
   ]
  },
  {
   "cell_type": "code",
   "execution_count": 7,
   "id": "18a52fab",
   "metadata": {},
   "outputs": [],
   "source": [
    "## Binary Files\n",
    "# Writing to a binary file\n",
    "\n",
    "data = b'\\x00\\x01\\x02\\x03\\x04'\n",
    "\n",
    "with open('example.bin', 'wb') as file:\n",
    "    file.write(data)"
   ]
  },
  {
   "cell_type": "code",
   "execution_count": 8,
   "id": "9606eb90",
   "metadata": {},
   "outputs": [
    {
     "name": "stdout",
     "output_type": "stream",
     "text": [
      "b'\\x00\\x01\\x02\\x03\\x04'\n"
     ]
    }
   ],
   "source": [
    "## Reading a binary file\n",
    "\n",
    "with open('example.bin', 'rb') as file:\n",
    "    content = file.read()\n",
    "    print(content)"
   ]
  },
  {
   "cell_type": "code",
   "execution_count": 9,
   "id": "8b7ebf06",
   "metadata": {},
   "outputs": [],
   "source": [
    "### Read the content from source text files and  write to a destination text file.\n",
    "with open('example.txt', 'r') as source_file:\n",
    "    content = source_file.read()\n",
    "\n",
    "with open('destination.txt', 'w') as destination_file:\n",
    "    destination_file.write(content)"
   ]
  },
  {
   "cell_type": "code",
   "execution_count": null,
   "id": "c88da1b4",
   "metadata": {},
   "outputs": [],
   "source": [
    "## Read a text file and count the number of lines, word, and charecter.\n",
    "# Counting lines, words, and charecter in the text file.\n",
    "\n",
    "def count_text_file(file_path):\n",
    "    with open(file_path, 'r') as file:\n",
    "        lines = file.readline()\n",
    "        line_count = len(lines)\n",
    "        word_count = sum(len().split() for line in lines)\n",
    "        char_count = sum(len(line) for line in lines)\n",
    "    return line_count, word_count, char_count\n",
    "\n",
    "\n",
    "file_path = 'example.txt'\n",
    "lines, words, characters = count_text_file(file_path)\n",
    "print(f'Lines: {lines}, words: {words}, Characters: {characters}')\n"
   ]
  },
  {
   "cell_type": "code",
   "execution_count": 10,
   "id": "e5acbd47",
   "metadata": {},
   "outputs": [
    {
     "name": "stdout",
     "output_type": "stream",
     "text": [
      "Hello World\n",
      "this is a new line.Append Operation taking Palce\n",
      "First lines\n",
      "Second line\n",
      "Third Line\n",
      "\n"
     ]
    }
   ],
   "source": [
    "### Writting and then reading a file\n",
    "\n",
    "with open('example.txt', 'w+')as file:\n",
    "    file.write(\"Hello world\\n\")\n",
    "    file.write(\"Thise is a new line \\n\")\n",
    "\n",
    "\n",
    "    ## move the file cursor to the begining\n",
    "    file.seek(0)\n",
    "\n",
    "    ## Read the content of the file\n",
    "    print(content)\n",
    "\n",
    "\n",
    "\n"
   ]
  },
  {
   "cell_type": "code",
   "execution_count": 11,
   "id": "90e26140",
   "metadata": {},
   "outputs": [
    {
     "name": "stdout",
     "output_type": "stream",
     "text": [
      "Hello World!\n"
     ]
    }
   ],
   "source": [
    "with open(\"example2.txt\", 'r') as file:\n",
    "    content = file.read()\n",
    "    print(content)"
   ]
  },
  {
   "cell_type": "code",
   "execution_count": null,
   "id": "ed642c11",
   "metadata": {},
   "outputs": [],
   "source": [
    "with open('example2.txt', 'w') as file:\n",
    "    file.write(\"Welcome to the file operation.\\n\")\n",
    "    file.write(\"Third line \\n\")\n"
   ]
  },
  {
   "cell_type": "code",
   "execution_count": 18,
   "id": "c7f4180c",
   "metadata": {},
   "outputs": [],
   "source": [
    "with open('example2.txt', 'a') as file:\n",
    "    file.write(\"Append to the same line\\n\")\n",
    "    "
   ]
  },
  {
   "cell_type": "code",
   "execution_count": 22,
   "id": "9219a641",
   "metadata": {},
   "outputs": [
    {
     "name": "stdout",
     "output_type": "stream",
     "text": [
      "Welcome to the file operation.\n",
      "Third line\n",
      "Append to the same line\n"
     ]
    }
   ],
   "source": [
    "with open('example2.txt','r') as file:\n",
    "    for line in file:\n",
    "        print(line.strip())"
   ]
  },
  {
   "cell_type": "code",
   "execution_count": null,
   "id": "795cd032",
   "metadata": {},
   "outputs": [],
   "source": []
  }
 ],
 "metadata": {
  "kernelspec": {
   "display_name": "Python 3",
   "language": "python",
   "name": "python3"
  },
  "language_info": {
   "codemirror_mode": {
    "name": "ipython",
    "version": 3
   },
   "file_extension": ".py",
   "mimetype": "text/x-python",
   "name": "python",
   "nbconvert_exporter": "python",
   "pygments_lexer": "ipython3",
   "version": "3.12.11"
  }
 },
 "nbformat": 4,
 "nbformat_minor": 5
}
