{
 "cells": [
  {
   "cell_type": "code",
   "execution_count": 1,
   "id": "c5e01a4d",
   "metadata": {},
   "outputs": [
    {
     "data": {
      "text/plain": [
       "<function __main__.<lambda>(arguments)>"
      ]
     },
     "execution_count": 1,
     "metadata": {},
     "output_type": "execute_result"
    }
   ],
   "source": [
    "# Syntax\n",
    "\n",
    "lambda arguments: expression"
   ]
  },
  {
   "cell_type": "code",
   "execution_count": 2,
   "id": "6af39ff8",
   "metadata": {},
   "outputs": [
    {
     "name": "stdout",
     "output_type": "stream",
     "text": [
      "5\n"
     ]
    }
   ],
   "source": [
    "addition = lambda a,b:a+b\n",
    "type(addition)\n",
    "print(addition(2,3))"
   ]
  },
  {
   "cell_type": "code",
   "execution_count": 1,
   "id": "9c82f996",
   "metadata": {},
   "outputs": [
    {
     "name": "stdout",
     "output_type": "stream",
     "text": [
      "True\n"
     ]
    }
   ],
   "source": [
    "even_num = lambda num:num%2==0\n",
    "print(even_num(24))"
   ]
  },
  {
   "cell_type": "code",
   "execution_count": 1,
   "id": "4e867c24",
   "metadata": {},
   "outputs": [
    {
     "data": {
      "text/plain": [
       "[1, 4, 9, 16, 25]"
      ]
     },
     "execution_count": 1,
     "metadata": {},
     "output_type": "execute_result"
    }
   ],
   "source": [
    "numbers = [1,2,3,4,5]\n",
    "list(map(lambda x:x**2, numbers))"
   ]
  },
  {
   "cell_type": "code",
   "execution_count": 2,
   "id": "fb3637dd",
   "metadata": {},
   "outputs": [
    {
     "data": {
      "text/plain": [
       "5"
      ]
     },
     "execution_count": 2,
     "metadata": {},
     "output_type": "execute_result"
    }
   ],
   "source": [
    "add_two_num = lambda x,y:x+y\n",
    "add_two_num(2,3)"
   ]
  },
  {
   "cell_type": "code",
   "execution_count": 3,
   "id": "9853963a",
   "metadata": {},
   "outputs": [
    {
     "data": {
      "text/plain": [
       "16"
      ]
     },
     "execution_count": 3,
     "metadata": {},
     "output_type": "execute_result"
    }
   ],
   "source": [
    "square_num = lambda x:x*x\n",
    "square_num(4)"
   ]
  },
  {
   "cell_type": "code",
   "execution_count": 4,
   "id": "d907719c",
   "metadata": {},
   "outputs": [
    {
     "data": {
      "text/plain": [
       "True"
      ]
     },
     "execution_count": 4,
     "metadata": {},
     "output_type": "execute_result"
    }
   ],
   "source": [
    "even_num = lambda x:x%2==0\n",
    "even_num(2)"
   ]
  },
  {
   "cell_type": "code",
   "execution_count": null,
   "id": "34032ba0",
   "metadata": {},
   "outputs": [
    {
     "data": {
      "text/plain": [
       "5"
      ]
     },
     "execution_count": 5,
     "metadata": {},
     "output_type": "execute_result"
    }
   ],
   "source": [
    "len_str = lambda x:len(x)\n",
    "len_str('xitij')\n"
   ]
  },
  {
   "cell_type": "code",
   "execution_count": null,
   "id": "83d8015a",
   "metadata": {},
   "outputs": [
    {
     "name": "stdout",
     "output_type": "stream",
     "text": [
      "1\n"
     ]
    }
   ],
   "source": [
    "abs_diff = lambda x,y : x-y # absolute difference means positive difference\n",
    "print(abs_diff(3,2))"
   ]
  },
  {
   "cell_type": "code",
   "execution_count": 1,
   "id": "c5106a6f",
   "metadata": {},
   "outputs": [
    {
     "name": "stdout",
     "output_type": "stream",
     "text": [
      "jitix\n"
     ]
    }
   ],
   "source": [
    "rvs_str = lambda x:x[::-1]\n",
    "print(rvs_str('xitij'))"
   ]
  },
  {
   "cell_type": "code",
   "execution_count": 3,
   "id": "45282567",
   "metadata": {},
   "outputs": [
    {
     "name": "stdout",
     "output_type": "stream",
     "text": [
      "4\n"
     ]
    }
   ],
   "source": [
    "square_num = lambda x:x**2\n",
    "print(square_num(2))"
   ]
  },
  {
   "cell_type": "code",
   "execution_count": 4,
   "id": "9ff3fccf",
   "metadata": {},
   "outputs": [
    {
     "ename": "AttributeError",
     "evalue": "'str' object has no attribute 'statswith'",
     "output_type": "error",
     "traceback": [
      "\u001b[31m---------------------------------------------------------------------------\u001b[39m",
      "\u001b[31mAttributeError\u001b[39m                            Traceback (most recent call last)",
      "\u001b[36mCell\u001b[39m\u001b[36m \u001b[39m\u001b[32mIn[4]\u001b[39m\u001b[32m, line 2\u001b[39m\n\u001b[32m      1\u001b[39m start_with_a = \u001b[38;5;28;01mlambda\u001b[39;00m word:word.lower().statswith(\u001b[33m'\u001b[39m\u001b[33ma\u001b[39m\u001b[33m'\u001b[39m)\n\u001b[32m----> \u001b[39m\u001b[32m2\u001b[39m \u001b[38;5;28mprint\u001b[39m(\u001b[43mstart_with_a\u001b[49m\u001b[43m(\u001b[49m\u001b[33;43m\"\u001b[39;49m\u001b[33;43mapple\u001b[39;49m\u001b[33;43m\"\u001b[39;49m\u001b[43m)\u001b[49m)\n",
      "\u001b[36mCell\u001b[39m\u001b[36m \u001b[39m\u001b[32mIn[4]\u001b[39m\u001b[32m, line 1\u001b[39m, in \u001b[36m<lambda>\u001b[39m\u001b[34m(word)\u001b[39m\n\u001b[32m----> \u001b[39m\u001b[32m1\u001b[39m start_with_a = \u001b[38;5;28;01mlambda\u001b[39;00m word:\u001b[43mword\u001b[49m\u001b[43m.\u001b[49m\u001b[43mlower\u001b[49m\u001b[43m(\u001b[49m\u001b[43m)\u001b[49m\u001b[43m.\u001b[49m\u001b[43mstatswith\u001b[49m(\u001b[33m'\u001b[39m\u001b[33ma\u001b[39m\u001b[33m'\u001b[39m)\n\u001b[32m      2\u001b[39m \u001b[38;5;28mprint\u001b[39m(start_with_a(\u001b[33m\"\u001b[39m\u001b[33mapple\u001b[39m\u001b[33m\"\u001b[39m))\n",
      "\u001b[31mAttributeError\u001b[39m: 'str' object has no attribute 'statswith'"
     ]
    }
   ],
   "source": [
    "start_with_a = lambda word:word.lower().statswith('a')\n",
    "print(start_with_a(\"apple\"))"
   ]
  },
  {
   "cell_type": "code",
   "execution_count": 5,
   "id": "6a67dc5e",
   "metadata": {},
   "outputs": [
    {
     "name": "stdout",
     "output_type": "stream",
     "text": [
      "Xitij katore\n"
     ]
    }
   ],
   "source": [
    "first_last_name = lambda first,last : first+\" \"+last\n",
    "print(first_last_name(\"Xitij\",\"katore\"))"
   ]
  },
  {
   "cell_type": "code",
   "execution_count": 6,
   "id": "6716304c",
   "metadata": {},
   "outputs": [
    {
     "name": "stdout",
     "output_type": "stream",
     "text": [
      "ggmail.com\n"
     ]
    }
   ],
   "source": [
    "extract_domain = lambda x:x.split('@')[1] if '@' in x else None\n",
    "print(extract_domain('kshitij@ggmail.com'))"
   ]
  },
  {
   "cell_type": "code",
   "execution_count": 7,
   "id": "c72c5572",
   "metadata": {},
   "outputs": [
    {
     "name": "stdout",
     "output_type": "stream",
     "text": [
      "jitiX\n"
     ]
    }
   ],
   "source": [
    "revs_str = lambda x: x[::-1]\n",
    "print(revs_str(\"Xitij\"))"
   ]
  },
  {
   "cell_type": "code",
   "execution_count": 8,
   "id": "a61902fe",
   "metadata": {},
   "outputs": [
    {
     "name": "stdout",
     "output_type": "stream",
     "text": [
      "[4, 8, 16]\n"
     ]
    }
   ],
   "source": [
    "lst_power = lambda x : [x**2,x**3,x**4]\n",
    "print(lst_power(2))"
   ]
  },
  {
   "cell_type": "code",
   "execution_count": 9,
   "id": "58c096bf",
   "metadata": {},
   "outputs": [
    {
     "name": "stdout",
     "output_type": "stream",
     "text": [
      "True\n"
     ]
    }
   ],
   "source": [
    "even_or_odd = lambda  x:x%2==0 if \"even\" else \"odd\"\n",
    "print(even_or_odd(2))"
   ]
  },
  {
   "cell_type": "code",
   "execution_count": 10,
   "id": "70d07017",
   "metadata": {},
   "outputs": [
    {
     "name": "stdout",
     "output_type": "stream",
     "text": [
      "[2, 4, 6, 8, 10]\n"
     ]
    }
   ],
   "source": [
    "lst = [1,2,3,4,5]\n",
    "\n",
    "double_lst_elm = list(map(lambda x:x*2, lst))\n",
    "print(double_lst_elm)"
   ]
  },
  {
   "cell_type": "code",
   "execution_count": 14,
   "id": "57ac54eb",
   "metadata": {},
   "outputs": [
    {
     "name": "stdout",
     "output_type": "stream",
     "text": [
      "['x', 'i', 't', 'i', 'j', ' ', 'k', 'a', 't', 'o', 'r', 'e']\n"
     ]
    }
   ],
   "source": [
    "str1 = \"Xitij Katore\"\n",
    "\n",
    "lwr_str = map(lambda x:x.lower(),str1)\n",
    "print(list(lwr_str))"
   ]
  },
  {
   "cell_type": "code",
   "execution_count": null,
   "id": "ab2132ad",
   "metadata": {},
   "outputs": [
    {
     "name": "stdout",
     "output_type": "stream",
     "text": [
      "[5, 2, 4, 2, 5]\n"
     ]
    }
   ],
   "source": [
    "str = \"Hello my name is xitij\"\n",
    "\n",
    "words = str.split()\n",
    "\n",
    "word_length = list(map(len,words))\n",
    "print(word_length)\n",
    "\n"
   ]
  },
  {
   "cell_type": "code",
   "execution_count": 17,
   "id": "06445564",
   "metadata": {},
   "outputs": [
    {
     "ename": "AttributeError",
     "evalue": "'list' object has no attribute 'title'",
     "output_type": "error",
     "traceback": [
      "\u001b[31m---------------------------------------------------------------------------\u001b[39m",
      "\u001b[31mAttributeError\u001b[39m                            Traceback (most recent call last)",
      "\u001b[36mCell\u001b[39m\u001b[36m \u001b[39m\u001b[32mIn[17]\u001b[39m\u001b[32m, line 3\u001b[39m\n\u001b[32m      1\u001b[39m \u001b[38;5;28mstr\u001b[39m = [\u001b[33m\"\u001b[39m\u001b[33mxitij\u001b[39m\u001b[33m\"\u001b[39m,\u001b[33m\"\u001b[39m\u001b[33mrajesh\u001b[39m\u001b[33m\"\u001b[39m,\u001b[33m\"\u001b[39m\u001b[33marvind\u001b[39m\u001b[33m\"\u001b[39m]\n\u001b[32m----> \u001b[39m\u001b[32m3\u001b[39m title_case = \u001b[38;5;28mmap\u001b[39m(\u001b[38;5;28;43mstr\u001b[39;49m\u001b[43m.\u001b[49m\u001b[43mtitle\u001b[49m,\u001b[38;5;28mstr\u001b[39m)\n",
      "\u001b[31mAttributeError\u001b[39m: 'list' object has no attribute 'title'"
     ]
    }
   ],
   "source": [
    "str = [\"xitij\",\"rajesh\",\"arvind\"]\n",
    "\n",
    "title_case = map(str.title,str)"
   ]
  },
  {
   "cell_type": "code",
   "execution_count": null,
   "id": "935e766e",
   "metadata": {},
   "outputs": [],
   "source": []
  }
 ],
 "metadata": {
  "kernelspec": {
   "display_name": "Python 3",
   "language": "python",
   "name": "python3"
  },
  "language_info": {
   "codemirror_mode": {
    "name": "ipython",
    "version": 3
   },
   "file_extension": ".py",
   "mimetype": "text/x-python",
   "name": "python",
   "nbconvert_exporter": "python",
   "pygments_lexer": "ipython3",
   "version": "3.12.11"
  }
 },
 "nbformat": 4,
 "nbformat_minor": 5
}
