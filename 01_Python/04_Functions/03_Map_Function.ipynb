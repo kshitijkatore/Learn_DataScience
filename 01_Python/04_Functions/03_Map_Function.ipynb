{
 "cells": [
  {
   "cell_type": "code",
   "execution_count": null,
   "id": "8ca4e1e8",
   "metadata": {},
   "outputs": [
    {
     "data": {
      "text/plain": [
       "[1, 4, 9, 16, 25]"
      ]
     },
     "execution_count": 4,
     "metadata": {},
     "output_type": "execute_result"
    }
   ],
   "source": [
    "def square(x):\n",
    "    return x*x\n",
    "\n",
    "numbers =[1,2,3,4,5]\n",
    "list(map(lambda x:x**2, numbers))  # Using lambda function with map\n",
    "list(map(square, numbers)) # using map define the function"
   ]
  },
  {
   "cell_type": "code",
   "execution_count": 5,
   "id": "36e00675",
   "metadata": {},
   "outputs": [
    {
     "name": "stdout",
     "output_type": "stream",
     "text": [
      "[5, 7, 9]\n"
     ]
    }
   ],
   "source": [
    "num1 = [1,2,3]\n",
    "num2 = [4,5,6]\n",
    "\n",
    "added_num = list(map(lambda x,y:x+y,num1,num2))\n",
    "print(added_num)"
   ]
  },
  {
   "cell_type": "code",
   "execution_count": 1,
   "id": "09ebb851",
   "metadata": {},
   "outputs": [
    {
     "name": "stdout",
     "output_type": "stream",
     "text": [
      "[1, 2, 3, 4, 5]\n"
     ]
    }
   ],
   "source": [
    "# Map to convert a list of string to integers\n",
    "# use map to convert string to integers\n",
    "\n",
    "str_numbers = ['1','2','3','4','5']\n",
    "int_numbers = list(map(int,str_numbers))\n",
    "\n",
    "print(int_numbers)"
   ]
  },
  {
   "cell_type": "code",
   "execution_count": 2,
   "id": "bbb8d9cc",
   "metadata": {},
   "outputs": [
    {
     "name": "stdout",
     "output_type": "stream",
     "text": [
      "['APPLE', 'BANANA', 'CHERRY']\n"
     ]
    }
   ],
   "source": [
    "words = ['apple','banana','cherry']\n",
    "upper_word = list(map(str.upper,words))\n",
    "print(upper_word)"
   ]
  },
  {
   "cell_type": "code",
   "execution_count": 5,
   "id": "3a7ada04",
   "metadata": {},
   "outputs": [
    {
     "data": {
      "text/plain": [
       "['Krish', 'Xitij']"
      ]
     },
     "execution_count": 5,
     "metadata": {},
     "output_type": "execute_result"
    }
   ],
   "source": [
    "def get_name(person):\n",
    "    return person['name']\n",
    "\n",
    "people = [\n",
    "    {'name' : 'Krish','age':32},\n",
    "    {'name':'Xitij','age':21}\n",
    "]\n",
    "\n",
    "list(map(get_name,people))"
   ]
  },
  {
   "cell_type": "code",
   "execution_count": 2,
   "id": "67fd0d7a",
   "metadata": {},
   "outputs": [
    {
     "name": "stdout",
     "output_type": "stream",
     "text": [
      "[1, 4, 9, 16, 25, 36, 49, 64, 81, 100]\n"
     ]
    }
   ],
   "source": [
    "## Use map() to square all elements in a list.\n",
    "lst = [1,2,3,4,5,6,7,8,9,10]\n",
    "\n",
    "squre_num = list(map(lambda x:x**2, lst))\n",
    "print(squre_num)"
   ]
  },
  {
   "cell_type": "code",
   "execution_count": 1,
   "id": "be1906ce",
   "metadata": {},
   "outputs": [
    {
     "name": "stdout",
     "output_type": "stream",
     "text": [
      "['APPLE', 'BANANA', 'ORANGE']\n"
     ]
    }
   ],
   "source": [
    "## Use map() with lambda to convert list of strings to uppercase.\n",
    "str1 = ['apple','banana','orange']\n",
    "\n",
    "str_upper = list(map (str.upper, str1))\n",
    "print(str_upper)\n"
   ]
  },
  {
   "cell_type": "code",
   "execution_count": 2,
   "id": "addfbc4e",
   "metadata": {},
   "outputs": [
    {
     "name": "stdout",
     "output_type": "stream",
     "text": [
      "['1', '2', '3', '4', '5', '6', '7', '8', '9', '10']\n"
     ]
    }
   ],
   "source": [
    "lst1 = [1,2,3,4,5,6,7,8,9,10]\n",
    "\n",
    "str_int = list(map(str,lst1))\n",
    "print(str_int)"
   ]
  },
  {
   "cell_type": "code",
   "execution_count": 4,
   "id": "65737979",
   "metadata": {},
   "outputs": [
    {
     "name": "stdout",
     "output_type": "stream",
     "text": [
      "[1, 8, 27, 64, 125, 216, 343, 512, 729, 1000]\n"
     ]
    }
   ],
   "source": [
    "## Apply map() to calculate cube of all numbers in a list.\n",
    "cube_lst = list(map(lambda x:x**3, lst1))\n",
    "print(cube_lst)"
   ]
  },
  {
   "cell_type": "code",
   "execution_count": null,
   "id": "59496f91",
   "metadata": {},
   "outputs": [],
   "source": []
  }
 ],
 "metadata": {
  "kernelspec": {
   "display_name": "Python 3",
   "language": "python",
   "name": "python3"
  },
  "language_info": {
   "codemirror_mode": {
    "name": "ipython",
    "version": 3
   },
   "file_extension": ".py",
   "mimetype": "text/x-python",
   "name": "python",
   "nbconvert_exporter": "python",
   "pygments_lexer": "ipython3",
   "version": "3.12.11"
  }
 },
 "nbformat": 4,
 "nbformat_minor": 5
}
